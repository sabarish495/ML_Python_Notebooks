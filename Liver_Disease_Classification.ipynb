{
 "cells": [
  {
   "cell_type": "markdown",
   "metadata": {},
   "source": [
    "### Import Required Libraries "
   ]
  },
  {
   "cell_type": "code",
   "execution_count": 36,
   "metadata": {},
   "outputs": [],
   "source": [
    "# Import libraries\n",
    "import pandas as pd\n",
    "import numpy as np\n",
    "import seaborn as sns\n",
    "import matplotlib.pyplot as plt\n",
    "from sklearn.model_selection import train_test_split\n",
    "from sklearn.metrics import classification_report\n",
    "from sklearn.metrics import precision_score\n",
    "from sklearn.naive_bayes import GaussianNB\n",
    "from sklearn.linear_model import LogisticRegression\n",
    "plt.style.use('ggplot')"
   ]
  },
  {
   "cell_type": "markdown",
   "metadata": {},
   "source": [
    "### Import Required the Data Set"
   ]
  },
  {
   "cell_type": "code",
   "execution_count": 37,
   "metadata": {},
   "outputs": [
    {
     "data": {
      "text/plain": [
       "(583, 10)"
      ]
     },
     "execution_count": 37,
     "metadata": {},
     "output_type": "execute_result"
    }
   ],
   "source": [
    "# Import the dataset\n",
    "data = pd.read_csv('liver_disease_1.csv')\n",
    "\n",
    "# Check the dimensionality\n",
    "data.shape"
   ]
  },
  {
   "cell_type": "markdown",
   "metadata": {},
   "source": [
    "So we get the number number of rows(observations) as 583 and the number of columns(variables) as 10.\n",
    "\n",
    "We have 9 independent variables and one target variable."
   ]
  },
  {
   "cell_type": "code",
   "execution_count": 38,
   "metadata": {},
   "outputs": [
    {
     "data": {
      "text/html": [
       "<div>\n",
       "<style scoped>\n",
       "    .dataframe tbody tr th:only-of-type {\n",
       "        vertical-align: middle;\n",
       "    }\n",
       "\n",
       "    .dataframe tbody tr th {\n",
       "        vertical-align: top;\n",
       "    }\n",
       "\n",
       "    .dataframe thead th {\n",
       "        text-align: right;\n",
       "    }\n",
       "</style>\n",
       "<table border=\"1\" class=\"dataframe\">\n",
       "  <thead>\n",
       "    <tr style=\"text-align: right;\">\n",
       "      <th></th>\n",
       "      <th>Age</th>\n",
       "      <th>Total_Bilirubin</th>\n",
       "      <th>Direct_Bilirubin</th>\n",
       "      <th>Alkaline_Phosphotase</th>\n",
       "      <th>Alamine_Aminotransferase</th>\n",
       "      <th>Aspartate_Aminotransferase</th>\n",
       "      <th>Total_Protiens</th>\n",
       "      <th>Albumin</th>\n",
       "      <th>Albumin_and_Globulin_Ratio</th>\n",
       "      <th>Dataset</th>\n",
       "    </tr>\n",
       "  </thead>\n",
       "  <tbody>\n",
       "    <tr>\n",
       "      <th>0</th>\n",
       "      <td>65</td>\n",
       "      <td>0.7</td>\n",
       "      <td>0.1</td>\n",
       "      <td>187</td>\n",
       "      <td>16</td>\n",
       "      <td>18</td>\n",
       "      <td>6.8</td>\n",
       "      <td>3.3</td>\n",
       "      <td>0.90</td>\n",
       "      <td>Yes</td>\n",
       "    </tr>\n",
       "    <tr>\n",
       "      <th>1</th>\n",
       "      <td>62</td>\n",
       "      <td>10.9</td>\n",
       "      <td>5.5</td>\n",
       "      <td>699</td>\n",
       "      <td>64</td>\n",
       "      <td>100</td>\n",
       "      <td>7.5</td>\n",
       "      <td>3.2</td>\n",
       "      <td>0.74</td>\n",
       "      <td>Yes</td>\n",
       "    </tr>\n",
       "    <tr>\n",
       "      <th>2</th>\n",
       "      <td>62</td>\n",
       "      <td>7.3</td>\n",
       "      <td>4.1</td>\n",
       "      <td>490</td>\n",
       "      <td>60</td>\n",
       "      <td>68</td>\n",
       "      <td>7.0</td>\n",
       "      <td>3.3</td>\n",
       "      <td>0.89</td>\n",
       "      <td>Yes</td>\n",
       "    </tr>\n",
       "    <tr>\n",
       "      <th>3</th>\n",
       "      <td>58</td>\n",
       "      <td>1.0</td>\n",
       "      <td>0.4</td>\n",
       "      <td>182</td>\n",
       "      <td>14</td>\n",
       "      <td>20</td>\n",
       "      <td>6.8</td>\n",
       "      <td>3.4</td>\n",
       "      <td>1.00</td>\n",
       "      <td>Yes</td>\n",
       "    </tr>\n",
       "    <tr>\n",
       "      <th>4</th>\n",
       "      <td>72</td>\n",
       "      <td>3.9</td>\n",
       "      <td>2.0</td>\n",
       "      <td>195</td>\n",
       "      <td>27</td>\n",
       "      <td>59</td>\n",
       "      <td>7.3</td>\n",
       "      <td>2.4</td>\n",
       "      <td>0.40</td>\n",
       "      <td>Yes</td>\n",
       "    </tr>\n",
       "  </tbody>\n",
       "</table>\n",
       "</div>"
      ],
      "text/plain": [
       "   Age  Total_Bilirubin  Direct_Bilirubin  Alkaline_Phosphotase  \\\n",
       "0   65              0.7               0.1                   187   \n",
       "1   62             10.9               5.5                   699   \n",
       "2   62              7.3               4.1                   490   \n",
       "3   58              1.0               0.4                   182   \n",
       "4   72              3.9               2.0                   195   \n",
       "\n",
       "   Alamine_Aminotransferase  Aspartate_Aminotransferase  Total_Protiens  \\\n",
       "0                        16                          18             6.8   \n",
       "1                        64                         100             7.5   \n",
       "2                        60                          68             7.0   \n",
       "3                        14                          20             6.8   \n",
       "4                        27                          59             7.3   \n",
       "\n",
       "   Albumin  Albumin_and_Globulin_Ratio Dataset  \n",
       "0      3.3                        0.90     Yes  \n",
       "1      3.2                        0.74     Yes  \n",
       "2      3.3                        0.89     Yes  \n",
       "3      3.4                        1.00     Yes  \n",
       "4      2.4                        0.40     Yes  "
      ]
     },
     "execution_count": 38,
     "metadata": {},
     "output_type": "execute_result"
    }
   ],
   "source": [
    "# Check a sample of the data \n",
    "data.head()"
   ]
  },
  {
   "cell_type": "markdown",
   "metadata": {},
   "source": [
    "### Preprocessing Data"
   ]
  },
  {
   "cell_type": "code",
   "execution_count": 39,
   "metadata": {
    "scrolled": true
   },
   "outputs": [
    {
     "name": "stdout",
     "output_type": "stream",
     "text": [
      "<class 'pandas.core.frame.DataFrame'>\n",
      "RangeIndex: 583 entries, 0 to 582\n",
      "Data columns (total 10 columns):\n",
      " #   Column                      Non-Null Count  Dtype  \n",
      "---  ------                      --------------  -----  \n",
      " 0   Age                         583 non-null    int64  \n",
      " 1   Total_Bilirubin             583 non-null    float64\n",
      " 2   Direct_Bilirubin            583 non-null    float64\n",
      " 3   Alkaline_Phosphotase        583 non-null    int64  \n",
      " 4   Alamine_Aminotransferase    583 non-null    int64  \n",
      " 5   Aspartate_Aminotransferase  583 non-null    int64  \n",
      " 6   Total_Protiens              583 non-null    float64\n",
      " 7   Albumin                     583 non-null    float64\n",
      " 8   Albumin_and_Globulin_Ratio  579 non-null    float64\n",
      " 9   Dataset                     583 non-null    object \n",
      "dtypes: float64(5), int64(4), object(1)\n",
      "memory usage: 45.7+ KB\n"
     ]
    }
   ],
   "source": [
    "# Find if any values are missing or null or in an incorrect data type.\n",
    "# We use info() for this. \n",
    "data.info()"
   ]
  },
  {
   "cell_type": "markdown",
   "metadata": {
    "scrolled": true
   },
   "source": [
    "We find that there are 10 variables and 583 observations.\n",
    "In the Albumin_and_Globulin_Ratio there are only 579 non-null columns but the total records are 583. So 4 records have missing value for Albumin_and_Globulin_Ratio."
   ]
  },
  {
   "cell_type": "code",
   "execution_count": 40,
   "metadata": {},
   "outputs": [
    {
     "data": {
      "text/html": [
       "<div>\n",
       "<style scoped>\n",
       "    .dataframe tbody tr th:only-of-type {\n",
       "        vertical-align: middle;\n",
       "    }\n",
       "\n",
       "    .dataframe tbody tr th {\n",
       "        vertical-align: top;\n",
       "    }\n",
       "\n",
       "    .dataframe thead th {\n",
       "        text-align: right;\n",
       "    }\n",
       "</style>\n",
       "<table border=\"1\" class=\"dataframe\">\n",
       "  <thead>\n",
       "    <tr style=\"text-align: right;\">\n",
       "      <th></th>\n",
       "      <th>Age</th>\n",
       "      <th>Total_Bilirubin</th>\n",
       "      <th>Direct_Bilirubin</th>\n",
       "      <th>Alkaline_Phosphotase</th>\n",
       "      <th>Alamine_Aminotransferase</th>\n",
       "      <th>Aspartate_Aminotransferase</th>\n",
       "      <th>Total_Protiens</th>\n",
       "      <th>Albumin</th>\n",
       "      <th>Albumin_and_Globulin_Ratio</th>\n",
       "      <th>Dataset</th>\n",
       "    </tr>\n",
       "  </thead>\n",
       "  <tbody>\n",
       "    <tr>\n",
       "      <th>18</th>\n",
       "      <td>40</td>\n",
       "      <td>0.9</td>\n",
       "      <td>0.3</td>\n",
       "      <td>293</td>\n",
       "      <td>232</td>\n",
       "      <td>245</td>\n",
       "      <td>6.8</td>\n",
       "      <td>3.1</td>\n",
       "      <td>0.80</td>\n",
       "      <td>Yes</td>\n",
       "    </tr>\n",
       "    <tr>\n",
       "      <th>19</th>\n",
       "      <td>40</td>\n",
       "      <td>0.9</td>\n",
       "      <td>0.3</td>\n",
       "      <td>293</td>\n",
       "      <td>232</td>\n",
       "      <td>245</td>\n",
       "      <td>6.8</td>\n",
       "      <td>3.1</td>\n",
       "      <td>0.80</td>\n",
       "      <td>Yes</td>\n",
       "    </tr>\n",
       "    <tr>\n",
       "      <th>25</th>\n",
       "      <td>34</td>\n",
       "      <td>4.1</td>\n",
       "      <td>2.0</td>\n",
       "      <td>289</td>\n",
       "      <td>875</td>\n",
       "      <td>731</td>\n",
       "      <td>5.0</td>\n",
       "      <td>2.7</td>\n",
       "      <td>1.10</td>\n",
       "      <td>Yes</td>\n",
       "    </tr>\n",
       "    <tr>\n",
       "      <th>26</th>\n",
       "      <td>34</td>\n",
       "      <td>4.1</td>\n",
       "      <td>2.0</td>\n",
       "      <td>289</td>\n",
       "      <td>875</td>\n",
       "      <td>731</td>\n",
       "      <td>5.0</td>\n",
       "      <td>2.7</td>\n",
       "      <td>1.10</td>\n",
       "      <td>Yes</td>\n",
       "    </tr>\n",
       "    <tr>\n",
       "      <th>33</th>\n",
       "      <td>38</td>\n",
       "      <td>2.6</td>\n",
       "      <td>1.2</td>\n",
       "      <td>410</td>\n",
       "      <td>59</td>\n",
       "      <td>57</td>\n",
       "      <td>5.6</td>\n",
       "      <td>3.0</td>\n",
       "      <td>0.80</td>\n",
       "      <td>No</td>\n",
       "    </tr>\n",
       "    <tr>\n",
       "      <th>34</th>\n",
       "      <td>38</td>\n",
       "      <td>2.6</td>\n",
       "      <td>1.2</td>\n",
       "      <td>410</td>\n",
       "      <td>59</td>\n",
       "      <td>57</td>\n",
       "      <td>5.6</td>\n",
       "      <td>3.0</td>\n",
       "      <td>0.80</td>\n",
       "      <td>No</td>\n",
       "    </tr>\n",
       "    <tr>\n",
       "      <th>54</th>\n",
       "      <td>42</td>\n",
       "      <td>8.9</td>\n",
       "      <td>4.5</td>\n",
       "      <td>272</td>\n",
       "      <td>31</td>\n",
       "      <td>61</td>\n",
       "      <td>5.8</td>\n",
       "      <td>2.0</td>\n",
       "      <td>0.50</td>\n",
       "      <td>Yes</td>\n",
       "    </tr>\n",
       "    <tr>\n",
       "      <th>55</th>\n",
       "      <td>42</td>\n",
       "      <td>8.9</td>\n",
       "      <td>4.5</td>\n",
       "      <td>272</td>\n",
       "      <td>31</td>\n",
       "      <td>61</td>\n",
       "      <td>5.8</td>\n",
       "      <td>2.0</td>\n",
       "      <td>0.50</td>\n",
       "      <td>Yes</td>\n",
       "    </tr>\n",
       "    <tr>\n",
       "      <th>61</th>\n",
       "      <td>58</td>\n",
       "      <td>1.0</td>\n",
       "      <td>0.5</td>\n",
       "      <td>158</td>\n",
       "      <td>37</td>\n",
       "      <td>43</td>\n",
       "      <td>7.2</td>\n",
       "      <td>3.6</td>\n",
       "      <td>1.00</td>\n",
       "      <td>Yes</td>\n",
       "    </tr>\n",
       "    <tr>\n",
       "      <th>62</th>\n",
       "      <td>58</td>\n",
       "      <td>1.0</td>\n",
       "      <td>0.5</td>\n",
       "      <td>158</td>\n",
       "      <td>37</td>\n",
       "      <td>43</td>\n",
       "      <td>7.2</td>\n",
       "      <td>3.6</td>\n",
       "      <td>1.00</td>\n",
       "      <td>Yes</td>\n",
       "    </tr>\n",
       "    <tr>\n",
       "      <th>105</th>\n",
       "      <td>36</td>\n",
       "      <td>5.3</td>\n",
       "      <td>2.3</td>\n",
       "      <td>145</td>\n",
       "      <td>32</td>\n",
       "      <td>92</td>\n",
       "      <td>5.1</td>\n",
       "      <td>2.6</td>\n",
       "      <td>1.00</td>\n",
       "      <td>No</td>\n",
       "    </tr>\n",
       "    <tr>\n",
       "      <th>106</th>\n",
       "      <td>36</td>\n",
       "      <td>5.3</td>\n",
       "      <td>2.3</td>\n",
       "      <td>145</td>\n",
       "      <td>32</td>\n",
       "      <td>92</td>\n",
       "      <td>5.1</td>\n",
       "      <td>2.6</td>\n",
       "      <td>1.00</td>\n",
       "      <td>No</td>\n",
       "    </tr>\n",
       "    <tr>\n",
       "      <th>107</th>\n",
       "      <td>36</td>\n",
       "      <td>0.8</td>\n",
       "      <td>0.2</td>\n",
       "      <td>158</td>\n",
       "      <td>29</td>\n",
       "      <td>39</td>\n",
       "      <td>6.0</td>\n",
       "      <td>2.2</td>\n",
       "      <td>0.50</td>\n",
       "      <td>No</td>\n",
       "    </tr>\n",
       "    <tr>\n",
       "      <th>108</th>\n",
       "      <td>36</td>\n",
       "      <td>0.8</td>\n",
       "      <td>0.2</td>\n",
       "      <td>158</td>\n",
       "      <td>29</td>\n",
       "      <td>39</td>\n",
       "      <td>6.0</td>\n",
       "      <td>2.2</td>\n",
       "      <td>0.50</td>\n",
       "      <td>No</td>\n",
       "    </tr>\n",
       "    <tr>\n",
       "      <th>137</th>\n",
       "      <td>18</td>\n",
       "      <td>0.8</td>\n",
       "      <td>0.2</td>\n",
       "      <td>282</td>\n",
       "      <td>72</td>\n",
       "      <td>140</td>\n",
       "      <td>5.5</td>\n",
       "      <td>2.5</td>\n",
       "      <td>0.80</td>\n",
       "      <td>Yes</td>\n",
       "    </tr>\n",
       "    <tr>\n",
       "      <th>138</th>\n",
       "      <td>18</td>\n",
       "      <td>0.8</td>\n",
       "      <td>0.2</td>\n",
       "      <td>282</td>\n",
       "      <td>72</td>\n",
       "      <td>140</td>\n",
       "      <td>5.5</td>\n",
       "      <td>2.5</td>\n",
       "      <td>0.80</td>\n",
       "      <td>Yes</td>\n",
       "    </tr>\n",
       "    <tr>\n",
       "      <th>142</th>\n",
       "      <td>30</td>\n",
       "      <td>1.6</td>\n",
       "      <td>0.4</td>\n",
       "      <td>332</td>\n",
       "      <td>84</td>\n",
       "      <td>139</td>\n",
       "      <td>5.6</td>\n",
       "      <td>2.7</td>\n",
       "      <td>0.90</td>\n",
       "      <td>Yes</td>\n",
       "    </tr>\n",
       "    <tr>\n",
       "      <th>143</th>\n",
       "      <td>30</td>\n",
       "      <td>1.6</td>\n",
       "      <td>0.4</td>\n",
       "      <td>332</td>\n",
       "      <td>84</td>\n",
       "      <td>139</td>\n",
       "      <td>5.6</td>\n",
       "      <td>2.7</td>\n",
       "      <td>0.90</td>\n",
       "      <td>Yes</td>\n",
       "    </tr>\n",
       "    <tr>\n",
       "      <th>157</th>\n",
       "      <td>72</td>\n",
       "      <td>0.7</td>\n",
       "      <td>0.1</td>\n",
       "      <td>196</td>\n",
       "      <td>20</td>\n",
       "      <td>35</td>\n",
       "      <td>5.8</td>\n",
       "      <td>2.0</td>\n",
       "      <td>0.50</td>\n",
       "      <td>Yes</td>\n",
       "    </tr>\n",
       "    <tr>\n",
       "      <th>158</th>\n",
       "      <td>72</td>\n",
       "      <td>0.7</td>\n",
       "      <td>0.1</td>\n",
       "      <td>196</td>\n",
       "      <td>20</td>\n",
       "      <td>35</td>\n",
       "      <td>5.8</td>\n",
       "      <td>2.0</td>\n",
       "      <td>0.50</td>\n",
       "      <td>Yes</td>\n",
       "    </tr>\n",
       "    <tr>\n",
       "      <th>163</th>\n",
       "      <td>39</td>\n",
       "      <td>1.9</td>\n",
       "      <td>0.9</td>\n",
       "      <td>180</td>\n",
       "      <td>42</td>\n",
       "      <td>62</td>\n",
       "      <td>7.4</td>\n",
       "      <td>4.3</td>\n",
       "      <td>1.38</td>\n",
       "      <td>Yes</td>\n",
       "    </tr>\n",
       "    <tr>\n",
       "      <th>164</th>\n",
       "      <td>39</td>\n",
       "      <td>1.9</td>\n",
       "      <td>0.9</td>\n",
       "      <td>180</td>\n",
       "      <td>42</td>\n",
       "      <td>62</td>\n",
       "      <td>7.4</td>\n",
       "      <td>4.3</td>\n",
       "      <td>1.38</td>\n",
       "      <td>Yes</td>\n",
       "    </tr>\n",
       "    <tr>\n",
       "      <th>173</th>\n",
       "      <td>31</td>\n",
       "      <td>0.6</td>\n",
       "      <td>0.1</td>\n",
       "      <td>175</td>\n",
       "      <td>48</td>\n",
       "      <td>34</td>\n",
       "      <td>6.0</td>\n",
       "      <td>3.7</td>\n",
       "      <td>1.60</td>\n",
       "      <td>Yes</td>\n",
       "    </tr>\n",
       "    <tr>\n",
       "      <th>174</th>\n",
       "      <td>31</td>\n",
       "      <td>0.6</td>\n",
       "      <td>0.1</td>\n",
       "      <td>175</td>\n",
       "      <td>48</td>\n",
       "      <td>34</td>\n",
       "      <td>6.0</td>\n",
       "      <td>3.7</td>\n",
       "      <td>1.60</td>\n",
       "      <td>Yes</td>\n",
       "    </tr>\n",
       "    <tr>\n",
       "      <th>200</th>\n",
       "      <td>49</td>\n",
       "      <td>0.6</td>\n",
       "      <td>0.1</td>\n",
       "      <td>218</td>\n",
       "      <td>50</td>\n",
       "      <td>53</td>\n",
       "      <td>5.0</td>\n",
       "      <td>2.4</td>\n",
       "      <td>0.90</td>\n",
       "      <td>Yes</td>\n",
       "    </tr>\n",
       "    <tr>\n",
       "      <th>201</th>\n",
       "      <td>49</td>\n",
       "      <td>0.6</td>\n",
       "      <td>0.1</td>\n",
       "      <td>218</td>\n",
       "      <td>50</td>\n",
       "      <td>53</td>\n",
       "      <td>5.0</td>\n",
       "      <td>2.4</td>\n",
       "      <td>0.90</td>\n",
       "      <td>Yes</td>\n",
       "    </tr>\n",
       "  </tbody>\n",
       "</table>\n",
       "</div>"
      ],
      "text/plain": [
       "     Age  Total_Bilirubin  Direct_Bilirubin  Alkaline_Phosphotase  \\\n",
       "18    40              0.9               0.3                   293   \n",
       "19    40              0.9               0.3                   293   \n",
       "25    34              4.1               2.0                   289   \n",
       "26    34              4.1               2.0                   289   \n",
       "33    38              2.6               1.2                   410   \n",
       "34    38              2.6               1.2                   410   \n",
       "54    42              8.9               4.5                   272   \n",
       "55    42              8.9               4.5                   272   \n",
       "61    58              1.0               0.5                   158   \n",
       "62    58              1.0               0.5                   158   \n",
       "105   36              5.3               2.3                   145   \n",
       "106   36              5.3               2.3                   145   \n",
       "107   36              0.8               0.2                   158   \n",
       "108   36              0.8               0.2                   158   \n",
       "137   18              0.8               0.2                   282   \n",
       "138   18              0.8               0.2                   282   \n",
       "142   30              1.6               0.4                   332   \n",
       "143   30              1.6               0.4                   332   \n",
       "157   72              0.7               0.1                   196   \n",
       "158   72              0.7               0.1                   196   \n",
       "163   39              1.9               0.9                   180   \n",
       "164   39              1.9               0.9                   180   \n",
       "173   31              0.6               0.1                   175   \n",
       "174   31              0.6               0.1                   175   \n",
       "200   49              0.6               0.1                   218   \n",
       "201   49              0.6               0.1                   218   \n",
       "\n",
       "     Alamine_Aminotransferase  Aspartate_Aminotransferase  Total_Protiens  \\\n",
       "18                        232                         245             6.8   \n",
       "19                        232                         245             6.8   \n",
       "25                        875                         731             5.0   \n",
       "26                        875                         731             5.0   \n",
       "33                         59                          57             5.6   \n",
       "34                         59                          57             5.6   \n",
       "54                         31                          61             5.8   \n",
       "55                         31                          61             5.8   \n",
       "61                         37                          43             7.2   \n",
       "62                         37                          43             7.2   \n",
       "105                        32                          92             5.1   \n",
       "106                        32                          92             5.1   \n",
       "107                        29                          39             6.0   \n",
       "108                        29                          39             6.0   \n",
       "137                        72                         140             5.5   \n",
       "138                        72                         140             5.5   \n",
       "142                        84                         139             5.6   \n",
       "143                        84                         139             5.6   \n",
       "157                        20                          35             5.8   \n",
       "158                        20                          35             5.8   \n",
       "163                        42                          62             7.4   \n",
       "164                        42                          62             7.4   \n",
       "173                        48                          34             6.0   \n",
       "174                        48                          34             6.0   \n",
       "200                        50                          53             5.0   \n",
       "201                        50                          53             5.0   \n",
       "\n",
       "     Albumin  Albumin_and_Globulin_Ratio Dataset  \n",
       "18       3.1                        0.80     Yes  \n",
       "19       3.1                        0.80     Yes  \n",
       "25       2.7                        1.10     Yes  \n",
       "26       2.7                        1.10     Yes  \n",
       "33       3.0                        0.80      No  \n",
       "34       3.0                        0.80      No  \n",
       "54       2.0                        0.50     Yes  \n",
       "55       2.0                        0.50     Yes  \n",
       "61       3.6                        1.00     Yes  \n",
       "62       3.6                        1.00     Yes  \n",
       "105      2.6                        1.00      No  \n",
       "106      2.6                        1.00      No  \n",
       "107      2.2                        0.50      No  \n",
       "108      2.2                        0.50      No  \n",
       "137      2.5                        0.80     Yes  \n",
       "138      2.5                        0.80     Yes  \n",
       "142      2.7                        0.90     Yes  \n",
       "143      2.7                        0.90     Yes  \n",
       "157      2.0                        0.50     Yes  \n",
       "158      2.0                        0.50     Yes  \n",
       "163      4.3                        1.38     Yes  \n",
       "164      4.3                        1.38     Yes  \n",
       "173      3.7                        1.60     Yes  \n",
       "174      3.7                        1.60     Yes  \n",
       "200      2.4                        0.90     Yes  \n",
       "201      2.4                        0.90     Yes  "
      ]
     },
     "execution_count": 40,
     "metadata": {},
     "output_type": "execute_result"
    }
   ],
   "source": [
    "data_duplicate = data[data.duplicated(keep = False)] # keep = False gives you all rows with duplicate entries\n",
    "data_duplicate"
   ]
  },
  {
   "cell_type": "code",
   "execution_count": 41,
   "metadata": {},
   "outputs": [
    {
     "data": {
      "text/plain": [
       "(570, 10)"
      ]
     },
     "execution_count": 41,
     "metadata": {},
     "output_type": "execute_result"
    }
   ],
   "source": [
    "# Here, keep = 'first' ensures that only the first row is taken into the final dataset.\n",
    "# The '~' sign tells pandas to keep all values except the duplicate values\n",
    "data = data[~data.duplicated(subset = None, keep = 'first')]\n",
    "data.shape"
   ]
  },
  {
   "cell_type": "code",
   "execution_count": 42,
   "metadata": {},
   "outputs": [],
   "source": [
    "# Remove records with empty values for features.\n",
    "data = data.dropna()"
   ]
  },
  {
   "cell_type": "code",
   "execution_count": 43,
   "metadata": {},
   "outputs": [],
   "source": [
    "# Check if any features have 0 values"
   ]
  },
  {
   "cell_type": "code",
   "execution_count": 44,
   "metadata": {},
   "outputs": [
    {
     "data": {
      "text/html": [
       "<div>\n",
       "<style scoped>\n",
       "    .dataframe tbody tr th:only-of-type {\n",
       "        vertical-align: middle;\n",
       "    }\n",
       "\n",
       "    .dataframe tbody tr th {\n",
       "        vertical-align: top;\n",
       "    }\n",
       "\n",
       "    .dataframe thead th {\n",
       "        text-align: right;\n",
       "    }\n",
       "</style>\n",
       "<table border=\"1\" class=\"dataframe\">\n",
       "  <thead>\n",
       "    <tr style=\"text-align: right;\">\n",
       "      <th></th>\n",
       "      <th>Age</th>\n",
       "      <th>Total_Bilirubin</th>\n",
       "      <th>Direct_Bilirubin</th>\n",
       "      <th>Alkaline_Phosphotase</th>\n",
       "      <th>Alamine_Aminotransferase</th>\n",
       "      <th>Aspartate_Aminotransferase</th>\n",
       "      <th>Total_Protiens</th>\n",
       "      <th>Albumin</th>\n",
       "      <th>Albumin_and_Globulin_Ratio</th>\n",
       "      <th>Dataset</th>\n",
       "    </tr>\n",
       "  </thead>\n",
       "  <tbody>\n",
       "  </tbody>\n",
       "</table>\n",
       "</div>"
      ],
      "text/plain": [
       "Empty DataFrame\n",
       "Columns: [Age, Total_Bilirubin, Direct_Bilirubin, Alkaline_Phosphotase, Alamine_Aminotransferase, Aspartate_Aminotransferase, Total_Protiens, Albumin, Albumin_and_Globulin_Ratio, Dataset]\n",
       "Index: []"
      ]
     },
     "execution_count": 44,
     "metadata": {},
     "output_type": "execute_result"
    }
   ],
   "source": [
    "data.loc[(data['Age'] == 0)]\n"
   ]
  },
  {
   "cell_type": "code",
   "execution_count": 45,
   "metadata": {},
   "outputs": [
    {
     "data": {
      "text/html": [
       "<div>\n",
       "<style scoped>\n",
       "    .dataframe tbody tr th:only-of-type {\n",
       "        vertical-align: middle;\n",
       "    }\n",
       "\n",
       "    .dataframe tbody tr th {\n",
       "        vertical-align: top;\n",
       "    }\n",
       "\n",
       "    .dataframe thead th {\n",
       "        text-align: right;\n",
       "    }\n",
       "</style>\n",
       "<table border=\"1\" class=\"dataframe\">\n",
       "  <thead>\n",
       "    <tr style=\"text-align: right;\">\n",
       "      <th></th>\n",
       "      <th>Age</th>\n",
       "      <th>Total_Bilirubin</th>\n",
       "      <th>Direct_Bilirubin</th>\n",
       "      <th>Alkaline_Phosphotase</th>\n",
       "      <th>Alamine_Aminotransferase</th>\n",
       "      <th>Aspartate_Aminotransferase</th>\n",
       "      <th>Total_Protiens</th>\n",
       "      <th>Albumin</th>\n",
       "      <th>Albumin_and_Globulin_Ratio</th>\n",
       "      <th>Dataset</th>\n",
       "    </tr>\n",
       "  </thead>\n",
       "  <tbody>\n",
       "  </tbody>\n",
       "</table>\n",
       "</div>"
      ],
      "text/plain": [
       "Empty DataFrame\n",
       "Columns: [Age, Total_Bilirubin, Direct_Bilirubin, Alkaline_Phosphotase, Alamine_Aminotransferase, Aspartate_Aminotransferase, Total_Protiens, Albumin, Albumin_and_Globulin_Ratio, Dataset]\n",
       "Index: []"
      ]
     },
     "execution_count": 45,
     "metadata": {},
     "output_type": "execute_result"
    }
   ],
   "source": [
    "data.loc[(data['Total_Bilirubin'] == 0)]"
   ]
  },
  {
   "cell_type": "code",
   "execution_count": 46,
   "metadata": {},
   "outputs": [
    {
     "data": {
      "text/html": [
       "<div>\n",
       "<style scoped>\n",
       "    .dataframe tbody tr th:only-of-type {\n",
       "        vertical-align: middle;\n",
       "    }\n",
       "\n",
       "    .dataframe tbody tr th {\n",
       "        vertical-align: top;\n",
       "    }\n",
       "\n",
       "    .dataframe thead th {\n",
       "        text-align: right;\n",
       "    }\n",
       "</style>\n",
       "<table border=\"1\" class=\"dataframe\">\n",
       "  <thead>\n",
       "    <tr style=\"text-align: right;\">\n",
       "      <th></th>\n",
       "      <th>Age</th>\n",
       "      <th>Total_Bilirubin</th>\n",
       "      <th>Direct_Bilirubin</th>\n",
       "      <th>Alkaline_Phosphotase</th>\n",
       "      <th>Alamine_Aminotransferase</th>\n",
       "      <th>Aspartate_Aminotransferase</th>\n",
       "      <th>Total_Protiens</th>\n",
       "      <th>Albumin</th>\n",
       "      <th>Albumin_and_Globulin_Ratio</th>\n",
       "      <th>Dataset</th>\n",
       "    </tr>\n",
       "  </thead>\n",
       "  <tbody>\n",
       "  </tbody>\n",
       "</table>\n",
       "</div>"
      ],
      "text/plain": [
       "Empty DataFrame\n",
       "Columns: [Age, Total_Bilirubin, Direct_Bilirubin, Alkaline_Phosphotase, Alamine_Aminotransferase, Aspartate_Aminotransferase, Total_Protiens, Albumin, Albumin_and_Globulin_Ratio, Dataset]\n",
       "Index: []"
      ]
     },
     "execution_count": 46,
     "metadata": {},
     "output_type": "execute_result"
    }
   ],
   "source": [
    "data.loc[(data['Direct_Bilirubin'] == 0)]"
   ]
  },
  {
   "cell_type": "code",
   "execution_count": 47,
   "metadata": {},
   "outputs": [
    {
     "data": {
      "text/html": [
       "<div>\n",
       "<style scoped>\n",
       "    .dataframe tbody tr th:only-of-type {\n",
       "        vertical-align: middle;\n",
       "    }\n",
       "\n",
       "    .dataframe tbody tr th {\n",
       "        vertical-align: top;\n",
       "    }\n",
       "\n",
       "    .dataframe thead th {\n",
       "        text-align: right;\n",
       "    }\n",
       "</style>\n",
       "<table border=\"1\" class=\"dataframe\">\n",
       "  <thead>\n",
       "    <tr style=\"text-align: right;\">\n",
       "      <th></th>\n",
       "      <th>Age</th>\n",
       "      <th>Total_Bilirubin</th>\n",
       "      <th>Direct_Bilirubin</th>\n",
       "      <th>Alkaline_Phosphotase</th>\n",
       "      <th>Alamine_Aminotransferase</th>\n",
       "      <th>Aspartate_Aminotransferase</th>\n",
       "      <th>Total_Protiens</th>\n",
       "      <th>Albumin</th>\n",
       "      <th>Albumin_and_Globulin_Ratio</th>\n",
       "      <th>Dataset</th>\n",
       "    </tr>\n",
       "  </thead>\n",
       "  <tbody>\n",
       "  </tbody>\n",
       "</table>\n",
       "</div>"
      ],
      "text/plain": [
       "Empty DataFrame\n",
       "Columns: [Age, Total_Bilirubin, Direct_Bilirubin, Alkaline_Phosphotase, Alamine_Aminotransferase, Aspartate_Aminotransferase, Total_Protiens, Albumin, Albumin_and_Globulin_Ratio, Dataset]\n",
       "Index: []"
      ]
     },
     "execution_count": 47,
     "metadata": {},
     "output_type": "execute_result"
    }
   ],
   "source": [
    "data.loc[(data['Alkaline_Phosphotase'] == 0)]"
   ]
  },
  {
   "cell_type": "code",
   "execution_count": 48,
   "metadata": {},
   "outputs": [
    {
     "data": {
      "text/html": [
       "<div>\n",
       "<style scoped>\n",
       "    .dataframe tbody tr th:only-of-type {\n",
       "        vertical-align: middle;\n",
       "    }\n",
       "\n",
       "    .dataframe tbody tr th {\n",
       "        vertical-align: top;\n",
       "    }\n",
       "\n",
       "    .dataframe thead th {\n",
       "        text-align: right;\n",
       "    }\n",
       "</style>\n",
       "<table border=\"1\" class=\"dataframe\">\n",
       "  <thead>\n",
       "    <tr style=\"text-align: right;\">\n",
       "      <th></th>\n",
       "      <th>Age</th>\n",
       "      <th>Total_Bilirubin</th>\n",
       "      <th>Direct_Bilirubin</th>\n",
       "      <th>Alkaline_Phosphotase</th>\n",
       "      <th>Alamine_Aminotransferase</th>\n",
       "      <th>Aspartate_Aminotransferase</th>\n",
       "      <th>Total_Protiens</th>\n",
       "      <th>Albumin</th>\n",
       "      <th>Albumin_and_Globulin_Ratio</th>\n",
       "      <th>Dataset</th>\n",
       "    </tr>\n",
       "  </thead>\n",
       "  <tbody>\n",
       "  </tbody>\n",
       "</table>\n",
       "</div>"
      ],
      "text/plain": [
       "Empty DataFrame\n",
       "Columns: [Age, Total_Bilirubin, Direct_Bilirubin, Alkaline_Phosphotase, Alamine_Aminotransferase, Aspartate_Aminotransferase, Total_Protiens, Albumin, Albumin_and_Globulin_Ratio, Dataset]\n",
       "Index: []"
      ]
     },
     "execution_count": 48,
     "metadata": {},
     "output_type": "execute_result"
    }
   ],
   "source": [
    "data.loc[(data['Alamine_Aminotransferase'] == 0)]"
   ]
  },
  {
   "cell_type": "code",
   "execution_count": 49,
   "metadata": {},
   "outputs": [
    {
     "data": {
      "text/html": [
       "<div>\n",
       "<style scoped>\n",
       "    .dataframe tbody tr th:only-of-type {\n",
       "        vertical-align: middle;\n",
       "    }\n",
       "\n",
       "    .dataframe tbody tr th {\n",
       "        vertical-align: top;\n",
       "    }\n",
       "\n",
       "    .dataframe thead th {\n",
       "        text-align: right;\n",
       "    }\n",
       "</style>\n",
       "<table border=\"1\" class=\"dataframe\">\n",
       "  <thead>\n",
       "    <tr style=\"text-align: right;\">\n",
       "      <th></th>\n",
       "      <th>Age</th>\n",
       "      <th>Total_Bilirubin</th>\n",
       "      <th>Direct_Bilirubin</th>\n",
       "      <th>Alkaline_Phosphotase</th>\n",
       "      <th>Alamine_Aminotransferase</th>\n",
       "      <th>Aspartate_Aminotransferase</th>\n",
       "      <th>Total_Protiens</th>\n",
       "      <th>Albumin</th>\n",
       "      <th>Albumin_and_Globulin_Ratio</th>\n",
       "      <th>Dataset</th>\n",
       "    </tr>\n",
       "  </thead>\n",
       "  <tbody>\n",
       "  </tbody>\n",
       "</table>\n",
       "</div>"
      ],
      "text/plain": [
       "Empty DataFrame\n",
       "Columns: [Age, Total_Bilirubin, Direct_Bilirubin, Alkaline_Phosphotase, Alamine_Aminotransferase, Aspartate_Aminotransferase, Total_Protiens, Albumin, Albumin_and_Globulin_Ratio, Dataset]\n",
       "Index: []"
      ]
     },
     "execution_count": 49,
     "metadata": {},
     "output_type": "execute_result"
    }
   ],
   "source": [
    "data.loc[(data['Aspartate_Aminotransferase'] == 0)]"
   ]
  },
  {
   "cell_type": "code",
   "execution_count": 50,
   "metadata": {},
   "outputs": [
    {
     "data": {
      "text/html": [
       "<div>\n",
       "<style scoped>\n",
       "    .dataframe tbody tr th:only-of-type {\n",
       "        vertical-align: middle;\n",
       "    }\n",
       "\n",
       "    .dataframe tbody tr th {\n",
       "        vertical-align: top;\n",
       "    }\n",
       "\n",
       "    .dataframe thead th {\n",
       "        text-align: right;\n",
       "    }\n",
       "</style>\n",
       "<table border=\"1\" class=\"dataframe\">\n",
       "  <thead>\n",
       "    <tr style=\"text-align: right;\">\n",
       "      <th></th>\n",
       "      <th>Age</th>\n",
       "      <th>Total_Bilirubin</th>\n",
       "      <th>Direct_Bilirubin</th>\n",
       "      <th>Alkaline_Phosphotase</th>\n",
       "      <th>Alamine_Aminotransferase</th>\n",
       "      <th>Aspartate_Aminotransferase</th>\n",
       "      <th>Total_Protiens</th>\n",
       "      <th>Albumin</th>\n",
       "      <th>Albumin_and_Globulin_Ratio</th>\n",
       "      <th>Dataset</th>\n",
       "    </tr>\n",
       "  </thead>\n",
       "  <tbody>\n",
       "  </tbody>\n",
       "</table>\n",
       "</div>"
      ],
      "text/plain": [
       "Empty DataFrame\n",
       "Columns: [Age, Total_Bilirubin, Direct_Bilirubin, Alkaline_Phosphotase, Alamine_Aminotransferase, Aspartate_Aminotransferase, Total_Protiens, Albumin, Albumin_and_Globulin_Ratio, Dataset]\n",
       "Index: []"
      ]
     },
     "execution_count": 50,
     "metadata": {},
     "output_type": "execute_result"
    }
   ],
   "source": [
    "data.loc[(data['Total_Protiens'] == 0)]"
   ]
  },
  {
   "cell_type": "code",
   "execution_count": 51,
   "metadata": {},
   "outputs": [
    {
     "data": {
      "text/html": [
       "<div>\n",
       "<style scoped>\n",
       "    .dataframe tbody tr th:only-of-type {\n",
       "        vertical-align: middle;\n",
       "    }\n",
       "\n",
       "    .dataframe tbody tr th {\n",
       "        vertical-align: top;\n",
       "    }\n",
       "\n",
       "    .dataframe thead th {\n",
       "        text-align: right;\n",
       "    }\n",
       "</style>\n",
       "<table border=\"1\" class=\"dataframe\">\n",
       "  <thead>\n",
       "    <tr style=\"text-align: right;\">\n",
       "      <th></th>\n",
       "      <th>Age</th>\n",
       "      <th>Total_Bilirubin</th>\n",
       "      <th>Direct_Bilirubin</th>\n",
       "      <th>Alkaline_Phosphotase</th>\n",
       "      <th>Alamine_Aminotransferase</th>\n",
       "      <th>Aspartate_Aminotransferase</th>\n",
       "      <th>Total_Protiens</th>\n",
       "      <th>Albumin</th>\n",
       "      <th>Albumin_and_Globulin_Ratio</th>\n",
       "      <th>Dataset</th>\n",
       "    </tr>\n",
       "  </thead>\n",
       "  <tbody>\n",
       "  </tbody>\n",
       "</table>\n",
       "</div>"
      ],
      "text/plain": [
       "Empty DataFrame\n",
       "Columns: [Age, Total_Bilirubin, Direct_Bilirubin, Alkaline_Phosphotase, Alamine_Aminotransferase, Aspartate_Aminotransferase, Total_Protiens, Albumin, Albumin_and_Globulin_Ratio, Dataset]\n",
       "Index: []"
      ]
     },
     "execution_count": 51,
     "metadata": {},
     "output_type": "execute_result"
    }
   ],
   "source": [
    "data.loc[(data['Albumin'] == 0)]"
   ]
  },
  {
   "cell_type": "code",
   "execution_count": 52,
   "metadata": {},
   "outputs": [
    {
     "data": {
      "text/html": [
       "<div>\n",
       "<style scoped>\n",
       "    .dataframe tbody tr th:only-of-type {\n",
       "        vertical-align: middle;\n",
       "    }\n",
       "\n",
       "    .dataframe tbody tr th {\n",
       "        vertical-align: top;\n",
       "    }\n",
       "\n",
       "    .dataframe thead th {\n",
       "        text-align: right;\n",
       "    }\n",
       "</style>\n",
       "<table border=\"1\" class=\"dataframe\">\n",
       "  <thead>\n",
       "    <tr style=\"text-align: right;\">\n",
       "      <th></th>\n",
       "      <th>Age</th>\n",
       "      <th>Total_Bilirubin</th>\n",
       "      <th>Direct_Bilirubin</th>\n",
       "      <th>Alkaline_Phosphotase</th>\n",
       "      <th>Alamine_Aminotransferase</th>\n",
       "      <th>Aspartate_Aminotransferase</th>\n",
       "      <th>Total_Protiens</th>\n",
       "      <th>Albumin</th>\n",
       "      <th>Albumin_and_Globulin_Ratio</th>\n",
       "      <th>Dataset</th>\n",
       "    </tr>\n",
       "  </thead>\n",
       "  <tbody>\n",
       "  </tbody>\n",
       "</table>\n",
       "</div>"
      ],
      "text/plain": [
       "Empty DataFrame\n",
       "Columns: [Age, Total_Bilirubin, Direct_Bilirubin, Alkaline_Phosphotase, Alamine_Aminotransferase, Aspartate_Aminotransferase, Total_Protiens, Albumin, Albumin_and_Globulin_Ratio, Dataset]\n",
       "Index: []"
      ]
     },
     "execution_count": 52,
     "metadata": {},
     "output_type": "execute_result"
    }
   ],
   "source": [
    "data.loc[(data['Albumin_and_Globulin_Ratio'] == 0)]"
   ]
  },
  {
   "cell_type": "code",
   "execution_count": 53,
   "metadata": {},
   "outputs": [],
   "source": [
    "# Lets distribute the variable labels into two lists of Features and Target respectively\n",
    "Features = data.columns[:-1] \n",
    "Target = data.columns[-1] "
   ]
  },
  {
   "cell_type": "code",
   "execution_count": 54,
   "metadata": {
    "scrolled": true
   },
   "outputs": [
    {
     "name": "stdout",
     "output_type": "stream",
     "text": [
      "<class 'pandas.core.frame.DataFrame'>\n",
      "Int64Index: 566 entries, 0 to 582\n",
      "Data columns (total 10 columns):\n",
      " #   Column                      Non-Null Count  Dtype  \n",
      "---  ------                      --------------  -----  \n",
      " 0   Age                         566 non-null    int64  \n",
      " 1   Total_Bilirubin             566 non-null    float64\n",
      " 2   Direct_Bilirubin            566 non-null    float64\n",
      " 3   Alkaline_Phosphotase        566 non-null    int64  \n",
      " 4   Alamine_Aminotransferase    566 non-null    int64  \n",
      " 5   Aspartate_Aminotransferase  566 non-null    int64  \n",
      " 6   Total_Protiens              566 non-null    float64\n",
      " 7   Albumin                     566 non-null    float64\n",
      " 8   Albumin_and_Globulin_Ratio  566 non-null    float64\n",
      " 9   Dataset                     566 non-null    object \n",
      "dtypes: float64(5), int64(4), object(1)\n",
      "memory usage: 48.6+ KB\n"
     ]
    }
   ],
   "source": [
    "# Find if any values are missing or null or in an incorrect data type.\n",
    "# We use info() for this. \n",
    "data.info()"
   ]
  },
  {
   "cell_type": "code",
   "execution_count": 55,
   "metadata": {
    "scrolled": true
   },
   "outputs": [
    {
     "data": {
      "text/html": [
       "<div>\n",
       "<style scoped>\n",
       "    .dataframe tbody tr th:only-of-type {\n",
       "        vertical-align: middle;\n",
       "    }\n",
       "\n",
       "    .dataframe tbody tr th {\n",
       "        vertical-align: top;\n",
       "    }\n",
       "\n",
       "    .dataframe thead th {\n",
       "        text-align: right;\n",
       "    }\n",
       "</style>\n",
       "<table border=\"1\" class=\"dataframe\">\n",
       "  <thead>\n",
       "    <tr style=\"text-align: right;\">\n",
       "      <th></th>\n",
       "      <th>Age</th>\n",
       "      <th>Total_Bilirubin</th>\n",
       "      <th>Direct_Bilirubin</th>\n",
       "      <th>Alkaline_Phosphotase</th>\n",
       "      <th>Alamine_Aminotransferase</th>\n",
       "      <th>Aspartate_Aminotransferase</th>\n",
       "      <th>Total_Protiens</th>\n",
       "      <th>Albumin</th>\n",
       "      <th>Albumin_and_Globulin_Ratio</th>\n",
       "    </tr>\n",
       "  </thead>\n",
       "  <tbody>\n",
       "    <tr>\n",
       "      <th>count</th>\n",
       "      <td>566.000000</td>\n",
       "      <td>566.000000</td>\n",
       "      <td>566.000000</td>\n",
       "      <td>566.000000</td>\n",
       "      <td>566.000000</td>\n",
       "      <td>566.000000</td>\n",
       "      <td>566.000000</td>\n",
       "      <td>566.000000</td>\n",
       "      <td>566.000000</td>\n",
       "    </tr>\n",
       "    <tr>\n",
       "      <th>mean</th>\n",
       "      <td>44.886926</td>\n",
       "      <td>3.338869</td>\n",
       "      <td>1.505830</td>\n",
       "      <td>292.567138</td>\n",
       "      <td>80.143110</td>\n",
       "      <td>109.892226</td>\n",
       "      <td>6.494876</td>\n",
       "      <td>3.145583</td>\n",
       "      <td>0.948004</td>\n",
       "    </tr>\n",
       "    <tr>\n",
       "      <th>std</th>\n",
       "      <td>16.274893</td>\n",
       "      <td>6.286728</td>\n",
       "      <td>2.841485</td>\n",
       "      <td>245.936559</td>\n",
       "      <td>182.044881</td>\n",
       "      <td>291.841897</td>\n",
       "      <td>1.087512</td>\n",
       "      <td>0.795745</td>\n",
       "      <td>0.319635</td>\n",
       "    </tr>\n",
       "    <tr>\n",
       "      <th>min</th>\n",
       "      <td>4.000000</td>\n",
       "      <td>0.400000</td>\n",
       "      <td>0.100000</td>\n",
       "      <td>63.000000</td>\n",
       "      <td>10.000000</td>\n",
       "      <td>10.000000</td>\n",
       "      <td>2.700000</td>\n",
       "      <td>0.900000</td>\n",
       "      <td>0.300000</td>\n",
       "    </tr>\n",
       "    <tr>\n",
       "      <th>25%</th>\n",
       "      <td>33.000000</td>\n",
       "      <td>0.800000</td>\n",
       "      <td>0.200000</td>\n",
       "      <td>176.000000</td>\n",
       "      <td>23.000000</td>\n",
       "      <td>25.000000</td>\n",
       "      <td>5.800000</td>\n",
       "      <td>2.600000</td>\n",
       "      <td>0.700000</td>\n",
       "    </tr>\n",
       "    <tr>\n",
       "      <th>50%</th>\n",
       "      <td>45.000000</td>\n",
       "      <td>1.000000</td>\n",
       "      <td>0.300000</td>\n",
       "      <td>208.000000</td>\n",
       "      <td>35.000000</td>\n",
       "      <td>41.000000</td>\n",
       "      <td>6.600000</td>\n",
       "      <td>3.100000</td>\n",
       "      <td>0.950000</td>\n",
       "    </tr>\n",
       "    <tr>\n",
       "      <th>75%</th>\n",
       "      <td>58.000000</td>\n",
       "      <td>2.600000</td>\n",
       "      <td>1.300000</td>\n",
       "      <td>298.000000</td>\n",
       "      <td>60.750000</td>\n",
       "      <td>87.000000</td>\n",
       "      <td>7.200000</td>\n",
       "      <td>3.800000</td>\n",
       "      <td>1.100000</td>\n",
       "    </tr>\n",
       "    <tr>\n",
       "      <th>max</th>\n",
       "      <td>90.000000</td>\n",
       "      <td>75.000000</td>\n",
       "      <td>19.700000</td>\n",
       "      <td>2110.000000</td>\n",
       "      <td>2000.000000</td>\n",
       "      <td>4929.000000</td>\n",
       "      <td>9.600000</td>\n",
       "      <td>5.500000</td>\n",
       "      <td>2.800000</td>\n",
       "    </tr>\n",
       "  </tbody>\n",
       "</table>\n",
       "</div>"
      ],
      "text/plain": [
       "              Age  Total_Bilirubin  Direct_Bilirubin  Alkaline_Phosphotase  \\\n",
       "count  566.000000       566.000000        566.000000            566.000000   \n",
       "mean    44.886926         3.338869          1.505830            292.567138   \n",
       "std     16.274893         6.286728          2.841485            245.936559   \n",
       "min      4.000000         0.400000          0.100000             63.000000   \n",
       "25%     33.000000         0.800000          0.200000            176.000000   \n",
       "50%     45.000000         1.000000          0.300000            208.000000   \n",
       "75%     58.000000         2.600000          1.300000            298.000000   \n",
       "max     90.000000        75.000000         19.700000           2110.000000   \n",
       "\n",
       "       Alamine_Aminotransferase  Aspartate_Aminotransferase  Total_Protiens  \\\n",
       "count                566.000000                  566.000000      566.000000   \n",
       "mean                  80.143110                  109.892226        6.494876   \n",
       "std                  182.044881                  291.841897        1.087512   \n",
       "min                   10.000000                   10.000000        2.700000   \n",
       "25%                   23.000000                   25.000000        5.800000   \n",
       "50%                   35.000000                   41.000000        6.600000   \n",
       "75%                   60.750000                   87.000000        7.200000   \n",
       "max                 2000.000000                 4929.000000        9.600000   \n",
       "\n",
       "          Albumin  Albumin_and_Globulin_Ratio  \n",
       "count  566.000000                  566.000000  \n",
       "mean     3.145583                    0.948004  \n",
       "std      0.795745                    0.319635  \n",
       "min      0.900000                    0.300000  \n",
       "25%      2.600000                    0.700000  \n",
       "50%      3.100000                    0.950000  \n",
       "75%      3.800000                    1.100000  \n",
       "max      5.500000                    2.800000  "
      ]
     },
     "execution_count": 55,
     "metadata": {},
     "output_type": "execute_result"
    }
   ],
   "source": [
    "# Now that we know that our dataset doesn't have missing values,null values or values with wrong data-types, \n",
    "# lets look at the statistical summary of the numerical data\n",
    "data.describe()"
   ]
  },
  {
   "cell_type": "markdown",
   "metadata": {},
   "source": [
    "Here the count, mean, std, min and max show the number of values, average value, the standard deviation, minimum value and maximum value of each column respectively 25%, 50%,75% show the 25th percentile(1st quartile), 50th percentile(median/2nd quaritle) and the 75th percentile(3rd quartile) respectively.\n",
    "This means that 25% of the values in Age column are < 33, 50% are < 45 etc."
   ]
  },
  {
   "cell_type": "markdown",
   "metadata": {},
   "source": [
    "### Investigation of Presence of Correlation"
   ]
  },
  {
   "cell_type": "code",
   "execution_count": 56,
   "metadata": {
    "scrolled": true
   },
   "outputs": [
    {
     "data": {
      "text/html": [
       "<div>\n",
       "<style scoped>\n",
       "    .dataframe tbody tr th:only-of-type {\n",
       "        vertical-align: middle;\n",
       "    }\n",
       "\n",
       "    .dataframe tbody tr th {\n",
       "        vertical-align: top;\n",
       "    }\n",
       "\n",
       "    .dataframe thead th {\n",
       "        text-align: right;\n",
       "    }\n",
       "</style>\n",
       "<table border=\"1\" class=\"dataframe\">\n",
       "  <thead>\n",
       "    <tr style=\"text-align: right;\">\n",
       "      <th></th>\n",
       "      <th>Age</th>\n",
       "      <th>Total_Bilirubin</th>\n",
       "      <th>Direct_Bilirubin</th>\n",
       "      <th>Alkaline_Phosphotase</th>\n",
       "      <th>Alamine_Aminotransferase</th>\n",
       "      <th>Aspartate_Aminotransferase</th>\n",
       "      <th>Total_Protiens</th>\n",
       "      <th>Albumin</th>\n",
       "      <th>Albumin_and_Globulin_Ratio</th>\n",
       "    </tr>\n",
       "  </thead>\n",
       "  <tbody>\n",
       "    <tr>\n",
       "      <th>Age</th>\n",
       "      <td>1.000000</td>\n",
       "      <td>0.010704</td>\n",
       "      <td>0.006268</td>\n",
       "      <td>0.080085</td>\n",
       "      <td>-0.084319</td>\n",
       "      <td>-0.017352</td>\n",
       "      <td>-0.195893</td>\n",
       "      <td>-0.269448</td>\n",
       "      <td>-0.215967</td>\n",
       "    </tr>\n",
       "    <tr>\n",
       "      <th>Total_Bilirubin</th>\n",
       "      <td>0.010704</td>\n",
       "      <td>1.000000</td>\n",
       "      <td>0.873975</td>\n",
       "      <td>0.205286</td>\n",
       "      <td>0.216776</td>\n",
       "      <td>0.238167</td>\n",
       "      <td>-0.008423</td>\n",
       "      <td>-0.223979</td>\n",
       "      <td>-0.207740</td>\n",
       "    </tr>\n",
       "    <tr>\n",
       "      <th>Direct_Bilirubin</th>\n",
       "      <td>0.006268</td>\n",
       "      <td>0.873975</td>\n",
       "      <td>1.000000</td>\n",
       "      <td>0.233653</td>\n",
       "      <td>0.236731</td>\n",
       "      <td>0.257965</td>\n",
       "      <td>-0.000735</td>\n",
       "      <td>-0.230650</td>\n",
       "      <td>-0.201519</td>\n",
       "    </tr>\n",
       "    <tr>\n",
       "      <th>Alkaline_Phosphotase</th>\n",
       "      <td>0.080085</td>\n",
       "      <td>0.205286</td>\n",
       "      <td>0.233653</td>\n",
       "      <td>1.000000</td>\n",
       "      <td>0.125917</td>\n",
       "      <td>0.166609</td>\n",
       "      <td>-0.028623</td>\n",
       "      <td>-0.166287</td>\n",
       "      <td>-0.236251</td>\n",
       "    </tr>\n",
       "    <tr>\n",
       "      <th>Alamine_Aminotransferase</th>\n",
       "      <td>-0.084319</td>\n",
       "      <td>0.216776</td>\n",
       "      <td>0.236731</td>\n",
       "      <td>0.125917</td>\n",
       "      <td>1.000000</td>\n",
       "      <td>0.791754</td>\n",
       "      <td>-0.035104</td>\n",
       "      <td>-0.026890</td>\n",
       "      <td>-0.006525</td>\n",
       "    </tr>\n",
       "    <tr>\n",
       "      <th>Aspartate_Aminotransferase</th>\n",
       "      <td>-0.017352</td>\n",
       "      <td>0.238167</td>\n",
       "      <td>0.257965</td>\n",
       "      <td>0.166609</td>\n",
       "      <td>0.791754</td>\n",
       "      <td>1.000000</td>\n",
       "      <td>-0.022114</td>\n",
       "      <td>-0.084821</td>\n",
       "      <td>-0.072899</td>\n",
       "    </tr>\n",
       "    <tr>\n",
       "      <th>Total_Protiens</th>\n",
       "      <td>-0.195893</td>\n",
       "      <td>-0.008423</td>\n",
       "      <td>-0.000735</td>\n",
       "      <td>-0.028623</td>\n",
       "      <td>-0.035104</td>\n",
       "      <td>-0.022114</td>\n",
       "      <td>1.000000</td>\n",
       "      <td>0.783800</td>\n",
       "      <td>0.234576</td>\n",
       "    </tr>\n",
       "    <tr>\n",
       "      <th>Albumin</th>\n",
       "      <td>-0.269448</td>\n",
       "      <td>-0.223979</td>\n",
       "      <td>-0.230650</td>\n",
       "      <td>-0.166287</td>\n",
       "      <td>-0.026890</td>\n",
       "      <td>-0.084821</td>\n",
       "      <td>0.783800</td>\n",
       "      <td>1.000000</td>\n",
       "      <td>0.687438</td>\n",
       "    </tr>\n",
       "    <tr>\n",
       "      <th>Albumin_and_Globulin_Ratio</th>\n",
       "      <td>-0.215967</td>\n",
       "      <td>-0.207740</td>\n",
       "      <td>-0.201519</td>\n",
       "      <td>-0.236251</td>\n",
       "      <td>-0.006525</td>\n",
       "      <td>-0.072899</td>\n",
       "      <td>0.234576</td>\n",
       "      <td>0.687438</td>\n",
       "      <td>1.000000</td>\n",
       "    </tr>\n",
       "  </tbody>\n",
       "</table>\n",
       "</div>"
      ],
      "text/plain": [
       "                                 Age  Total_Bilirubin  Direct_Bilirubin  \\\n",
       "Age                         1.000000         0.010704          0.006268   \n",
       "Total_Bilirubin             0.010704         1.000000          0.873975   \n",
       "Direct_Bilirubin            0.006268         0.873975          1.000000   \n",
       "Alkaline_Phosphotase        0.080085         0.205286          0.233653   \n",
       "Alamine_Aminotransferase   -0.084319         0.216776          0.236731   \n",
       "Aspartate_Aminotransferase -0.017352         0.238167          0.257965   \n",
       "Total_Protiens             -0.195893        -0.008423         -0.000735   \n",
       "Albumin                    -0.269448        -0.223979         -0.230650   \n",
       "Albumin_and_Globulin_Ratio -0.215967        -0.207740         -0.201519   \n",
       "\n",
       "                            Alkaline_Phosphotase  Alamine_Aminotransferase  \\\n",
       "Age                                     0.080085                 -0.084319   \n",
       "Total_Bilirubin                         0.205286                  0.216776   \n",
       "Direct_Bilirubin                        0.233653                  0.236731   \n",
       "Alkaline_Phosphotase                    1.000000                  0.125917   \n",
       "Alamine_Aminotransferase                0.125917                  1.000000   \n",
       "Aspartate_Aminotransferase              0.166609                  0.791754   \n",
       "Total_Protiens                         -0.028623                 -0.035104   \n",
       "Albumin                                -0.166287                 -0.026890   \n",
       "Albumin_and_Globulin_Ratio             -0.236251                 -0.006525   \n",
       "\n",
       "                            Aspartate_Aminotransferase  Total_Protiens  \\\n",
       "Age                                          -0.017352       -0.195893   \n",
       "Total_Bilirubin                               0.238167       -0.008423   \n",
       "Direct_Bilirubin                              0.257965       -0.000735   \n",
       "Alkaline_Phosphotase                          0.166609       -0.028623   \n",
       "Alamine_Aminotransferase                      0.791754       -0.035104   \n",
       "Aspartate_Aminotransferase                    1.000000       -0.022114   \n",
       "Total_Protiens                               -0.022114        1.000000   \n",
       "Albumin                                      -0.084821        0.783800   \n",
       "Albumin_and_Globulin_Ratio                   -0.072899        0.234576   \n",
       "\n",
       "                             Albumin  Albumin_and_Globulin_Ratio  \n",
       "Age                        -0.269448                   -0.215967  \n",
       "Total_Bilirubin            -0.223979                   -0.207740  \n",
       "Direct_Bilirubin           -0.230650                   -0.201519  \n",
       "Alkaline_Phosphotase       -0.166287                   -0.236251  \n",
       "Alamine_Aminotransferase   -0.026890                   -0.006525  \n",
       "Aspartate_Aminotransferase -0.084821                   -0.072899  \n",
       "Total_Protiens              0.783800                    0.234576  \n",
       "Albumin                     1.000000                    0.687438  \n",
       "Albumin_and_Globulin_Ratio  0.687438                    1.000000  "
      ]
     },
     "execution_count": 56,
     "metadata": {},
     "output_type": "execute_result"
    }
   ],
   "source": [
    "data.corr()"
   ]
  },
  {
   "cell_type": "markdown",
   "metadata": {},
   "source": [
    "We can see that the highest correlation is between Total_Bilirubin and Direct_Bilirubin followed by between Alamine_Aminotransferase and Aspartate_Aminotransferase and these values are close to 0.9 and 0.8 respectively. So the independent variables are highly corelated and therefore we can drop one feature from each of the pairs to save some computation without losing much information. But since there are only 9 features and less than 600 records, it's not computationally expensive and we might as well consider all the features. "
   ]
  },
  {
   "cell_type": "markdown",
   "metadata": {},
   "source": [
    "### Histograms of each Numerical Variable"
   ]
  },
  {
   "cell_type": "code",
   "execution_count": 57,
   "metadata": {
    "scrolled": true
   },
   "outputs": [
    {
     "data": {
      "image/png": "[encoded data removed]",
      "text/plain": [
       "<Figure size 1080x720 with 1 Axes>"
      ]
     },
     "metadata": {},
     "output_type": "display_data"
    },
    {
     "data": {
      "image/png": "[encoded data removed]",
      "text/plain": [
       "<Figure size 1080x720 with 1 Axes>"
      ]
     },
     "metadata": {},
     "output_type": "display_data"
    },
    {
     "data": {
      "image/png": "[encoded data removed]",
      "text/plain": [
       "<Figure size 1080x720 with 1 Axes>"
      ]
     },
     "metadata": {},
     "output_type": "display_data"
    },
    {
     "data": {
      "image/png": "[encoded data removed]",
      "text/plain": [
       "<Figure size 1080x720 with 1 Axes>"
      ]
     },
     "metadata": {},
     "output_type": "display_data"
    },
    {
     "data": {
      "image/png": "[encoded data removed]",
      "text/plain": [
       "<Figure size 1080x720 with 1 Axes>"
      ]
     },
     "metadata": {},
     "output_type": "display_data"
    },
    {
     "data": {
      "image/png": "[encoded data removed]",
      "text/plain": [
       "<Figure size 1080x720 with 1 Axes>"
      ]
     },
     "metadata": {},
     "output_type": "display_data"
    },
    {
     "data": {
      "image/png": "[encoded data removed]",
      "text/plain": [
       "<Figure size 1080x720 with 1 Axes>"
      ]
     },
     "metadata": {},
     "output_type": "display_data"
    },
    {
     "data": {
      "image/png": "[encoded data removed]",
      "text/plain": [
       "<Figure size 1080x720 with 1 Axes>"
      ]
     },
     "metadata": {},
     "output_type": "display_data"
    },
    {
     "data": {
      "image/png": "[encoded data removed]",
      "text/plain": [
       "<Figure size 1080x720 with 1 Axes>"
      ]
     },
     "metadata": {},
     "output_type": "display_data"
    }
   ],
   "source": [
    "# Loop through the numerical variables and plot the histogram for each variable\n",
    "for i in Features:\n",
    "    plt.figure(figsize=(15, 10))\n",
    "    sns.histplot(y = i, hue = 'Dataset', data = data)\n",
    "    plt.show() "
   ]
  },
  {
   "cell_type": "markdown",
   "metadata": {},
   "source": [
    "From the histograms we can see that for each value of the Total_Protiens, Albumin and Albumin_and_Globulin_Ratio variables, the pattern of the values of the target variable is mostly similar. This indicates that the target variable is less dependent on these variables.\n",
    "\n",
    "On the other hand as the value of the Age, Total_Bilirubin, Direct_Bilirubin , Alkaline_Phosphotase, Alamine_Aminotransferase,  and Aspartate_Aminotransferase variables change, the pattern of values of the target variable changes dramatically. This indicates that the target variable is more dependent on these variables\n",
    "\n",
    "The independent variables on which the dependent variable has high dependency will play a significant role."
   ]
  },
  {
   "cell_type": "markdown",
   "metadata": {},
   "source": [
    "### Normalize the required columns using min max"
   ]
  },
  {
   "cell_type": "code",
   "execution_count": 58,
   "metadata": {},
   "outputs": [],
   "source": [
    "# Loop through the list of column names to be normalized\n",
    "# Derive the normalized value for each column by taking (val - min_of_val)/(max_of_val - min_of_val) \n",
    "# Store in a column named Normalized val (where val is the column name)\n",
    "i=1\n",
    "\n",
    "for i in Features:\n",
    "    data[i]=(data[i]-data[i].min())/(data[i].max()-data[i].min())"
   ]
  },
  {
   "cell_type": "code",
   "execution_count": 59,
   "metadata": {},
   "outputs": [
    {
     "name": "stdout",
     "output_type": "stream",
     "text": [
      "2 disease columns after one-hot encoding.\n"
     ]
    }
   ],
   "source": [
    "# we use pd.get_dummies() method to one-hot encode the label ‘Disease’ ( with the integer ‘1’ representing presence of disease).\n",
    "disease_initial = data['Dataset']\n",
    "disease=pd.get_dummies(disease_initial)\n",
    "encoded = list(disease.columns)\n",
    "print (\"{} disease columns after one-hot encoding.\".format(len(encoded)))"
   ]
  },
  {
   "cell_type": "code",
   "execution_count": 60,
   "metadata": {},
   "outputs": [],
   "source": [
    "# Let's put the best features in array X and target in array y\n",
    "\n",
    "# X = data.drop(['Outcome','Cancer_Markers','Insulin'],axis=1).values\n",
    "X = data.iloc[:, :-1].values\n",
    "Y = data.iloc[:, -1].values"
   ]
  },
  {
   "cell_type": "markdown",
   "metadata": {},
   "source": [
    "We will train using the knn classifier on the training set and make predictions on the test set. Then we will compare the predictions with the known labels."
   ]
  },
  {
   "cell_type": "code",
   "execution_count": 61,
   "metadata": {},
   "outputs": [
    {
     "name": "stdout",
     "output_type": "stream",
     "text": [
      "Training set has 339 samples.\n",
      "Testing set has 227 samples.\n"
     ]
    }
   ],
   "source": [
    "# Split the dataset into the Training set and Test set in the ratio of 60:40. We use \"stratify\" so the proportion of labels is the same in splits\n",
    "X_train,X_test,Y_train,Y_test = train_test_split(X,Y,test_size=0.4, stratify=Y,random_state = 5)\n",
    "\n",
    "\n",
    "# Show the results of the split\n",
    "print (\"Training set has {} samples.\".format(X_train.shape[0]))\n",
    "print (\"Testing set has {} samples.\".format(X_test.shape[0]))"
   ]
  },
  {
   "cell_type": "markdown",
   "metadata": {},
   "source": [
    "### Create and train the machine learning model using Naïve Bayes Classifier"
   ]
  },
  {
   "cell_type": "code",
   "execution_count": 62,
   "metadata": {},
   "outputs": [
    {
     "data": {
      "text/plain": [
       "GaussianNB()"
      ]
     },
     "execution_count": 62,
     "metadata": {},
     "output_type": "execute_result"
    }
   ],
   "source": [
    "gnb = GaussianNB()\n",
    "gnb.fit(X_train, Y_train)"
   ]
  },
  {
   "cell_type": "code",
   "execution_count": 63,
   "metadata": {
    "scrolled": true
   },
   "outputs": [
    {
     "name": "stdout",
     "output_type": "stream",
     "text": [
      "              precision    recall  f1-score   support\n",
      "\n",
      "          No       0.93      0.43      0.58       211\n",
      "         Yes       0.50      0.95      0.65       128\n",
      "\n",
      "    accuracy                           0.62       339\n",
      "   macro avg       0.71      0.69      0.62       339\n",
      "weighted avg       0.77      0.62      0.61       339\n",
      "\n",
      "Accuracy on training set:  0.5\n",
      "              precision    recall  f1-score   support\n",
      "\n",
      "          No       0.86      0.39      0.54       142\n",
      "         Yes       0.47      0.89      0.62        85\n",
      "\n",
      "    accuracy                           0.58       227\n",
      "   macro avg       0.67      0.64      0.58       227\n",
      "weighted avg       0.71      0.58      0.57       227\n",
      "\n",
      "Accuracy on test set:  0.4691358024691358\n"
     ]
    }
   ],
   "source": [
    "Y_train_preds = gnb.predict(X_train)\n",
    "print(classification_report(Y_train_preds, Y_train))\n",
    "print(\"Accuracy on training set: \", precision_score(Y_train_preds, Y_train, pos_label='Yes'))\n",
    "Y_test_preds = gnb.predict(X_test)\n",
    "print(classification_report(Y_test_preds, Y_test))\n",
    "print(\"Accuracy on test set: \", precision_score(Y_test_preds, Y_test, pos_label='Yes'))"
   ]
  },
  {
   "cell_type": "markdown",
   "metadata": {},
   "source": [
    "### Create and train the machine learning model using Logistic regression Classifier"
   ]
  },
  {
   "cell_type": "code",
   "execution_count": 64,
   "metadata": {},
   "outputs": [
    {
     "data": {
      "text/plain": [
       "LogisticRegression()"
      ]
     },
     "execution_count": 64,
     "metadata": {},
     "output_type": "execute_result"
    }
   ],
   "source": [
    "lr = LogisticRegression()\n",
    "lr.fit(X_train, Y_train)"
   ]
  },
  {
   "cell_type": "code",
   "execution_count": 65,
   "metadata": {
    "scrolled": true
   },
   "outputs": [
    {
     "name": "stdout",
     "output_type": "stream",
     "text": [
      "              precision    recall  f1-score   support\n",
      "\n",
      "          No       0.01      1.00      0.02         1\n",
      "         Yes       1.00      0.72      0.83       338\n",
      "\n",
      "    accuracy                           0.72       339\n",
      "   macro avg       0.51      0.86      0.43       339\n",
      "weighted avg       1.00      0.72      0.83       339\n",
      "\n",
      "Accuracy on training set:  1.0\n",
      "              precision    recall  f1-score   support\n",
      "\n",
      "          No       0.02      0.33      0.03         3\n",
      "         Yes       0.99      0.71      0.83       224\n",
      "\n",
      "    accuracy                           0.71       227\n",
      "   macro avg       0.50      0.52      0.43       227\n",
      "weighted avg       0.97      0.71      0.82       227\n",
      "\n",
      "Accuracy on test set:  0.9876543209876543\n"
     ]
    }
   ],
   "source": [
    "Y_train_preds = lr.predict(X_train)\n",
    "print(classification_report(Y_train_preds, Y_train))\n",
    "print(\"Accuracy on training set: \", precision_score(Y_train_preds, Y_train, pos_label='Yes'))\n",
    "Y_test_preds = lr.predict(X_test)\n",
    "print(classification_report(Y_test_preds, Y_test))\n",
    "print(\"Accuracy on test set: \", precision_score(Y_test_preds, Y_test, pos_label='Yes'))"
   ]
  },
  {
   "cell_type": "markdown",
   "metadata": {},
   "source": [
    "The logistic regression classifier gives a higher accuracy than the naive bayes classifier."
   ]
  },
  {
   "cell_type": "code",
   "execution_count": null,
   "metadata": {},
   "outputs": [],
   "source": []
  }
 ],
 "metadata": {
  "kernelspec": {
   "display_name": "Python 3",
   "language": "python",
   "name": "python3"
  },
  "language_info": {
   "codemirror_mode": {
    "name": "ipython",
    "version": 3
   },
   "file_extension": ".py",
   "mimetype": "text/x-python",
   "name": "python",
   "nbconvert_exporter": "python",
   "pygments_lexer": "ipython3",
   "version": "3.7.6"
  }
 },
 "nbformat": 4,
 "nbformat_minor": 4
}
