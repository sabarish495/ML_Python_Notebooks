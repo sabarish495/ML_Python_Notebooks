{
 "cells": [
  {
   "cell_type": "markdown",
   "metadata": {},
   "source": [
    "### Import required libraries and the data set"
   ]
  },
  {
   "cell_type": "code",
   "execution_count": 334,
   "metadata": {},
   "outputs": [],
   "source": [
    "# Import libraries\n",
    "import pandas as pd\n",
    "import numpy as np\n",
    "import seaborn as sns\n",
    "import matplotlib.pyplot as plt\n",
    "from sklearn.model_selection import train_test_split\n",
    "from sklearn.linear_model import LinearRegression\n",
    "from sklearn.linear_model import SGDRegressor\n",
    "from sklearn.metrics import mean_squared_error, r2_score\n",
    "from sklearn import preprocessing\n",
    "import math\n",
    "import random\n",
    "%matplotlib inline"
   ]
  },
  {
   "cell_type": "markdown",
   "metadata": {},
   "source": [
    "### Import required libraries and the data set"
   ]
  },
  {
   "cell_type": "code",
   "execution_count": 284,
   "metadata": {},
   "outputs": [],
   "source": [
    "# Import the dataset\n",
    "data = pd.read_csv('Insurance data.csv')"
   ]
  },
  {
   "cell_type": "markdown",
   "metadata": {},
   "source": [
    "### Analyse the dataset "
   ]
  },
  {
   "cell_type": "code",
   "execution_count": 285,
   "metadata": {},
   "outputs": [
    {
     "data": {
      "text/plain": [
       "(1338, 7)"
      ]
     },
     "execution_count": 285,
     "metadata": {},
     "output_type": "execute_result"
    }
   ],
   "source": [
    "# Check teh dimensionality\n",
    "data.shape"
   ]
  },
  {
   "cell_type": "code",
   "execution_count": 286,
   "metadata": {},
   "outputs": [
    {
     "data": {
      "text/html": [
       "<div>\n",
       "<style scoped>\n",
       "    .dataframe tbody tr th:only-of-type {\n",
       "        vertical-align: middle;\n",
       "    }\n",
       "\n",
       "    .dataframe tbody tr th {\n",
       "        vertical-align: top;\n",
       "    }\n",
       "\n",
       "    .dataframe thead th {\n",
       "        text-align: right;\n",
       "    }\n",
       "</style>\n",
       "<table border=\"1\" class=\"dataframe\">\n",
       "  <thead>\n",
       "    <tr style=\"text-align: right;\">\n",
       "      <th></th>\n",
       "      <th>age</th>\n",
       "      <th>sex</th>\n",
       "      <th>bmi</th>\n",
       "      <th>children</th>\n",
       "      <th>smoker</th>\n",
       "      <th>region</th>\n",
       "      <th>charges</th>\n",
       "    </tr>\n",
       "  </thead>\n",
       "  <tbody>\n",
       "    <tr>\n",
       "      <th>0</th>\n",
       "      <td>19</td>\n",
       "      <td>female</td>\n",
       "      <td>27.900</td>\n",
       "      <td>0</td>\n",
       "      <td>yes</td>\n",
       "      <td>southwest</td>\n",
       "      <td>16884.92400</td>\n",
       "    </tr>\n",
       "    <tr>\n",
       "      <th>1</th>\n",
       "      <td>18</td>\n",
       "      <td>male</td>\n",
       "      <td>33.770</td>\n",
       "      <td>1</td>\n",
       "      <td>no</td>\n",
       "      <td>southeast</td>\n",
       "      <td>1725.55230</td>\n",
       "    </tr>\n",
       "    <tr>\n",
       "      <th>2</th>\n",
       "      <td>28</td>\n",
       "      <td>male</td>\n",
       "      <td>33.000</td>\n",
       "      <td>3</td>\n",
       "      <td>no</td>\n",
       "      <td>southeast</td>\n",
       "      <td>4449.46200</td>\n",
       "    </tr>\n",
       "    <tr>\n",
       "      <th>3</th>\n",
       "      <td>33</td>\n",
       "      <td>male</td>\n",
       "      <td>22.705</td>\n",
       "      <td>0</td>\n",
       "      <td>no</td>\n",
       "      <td>northwest</td>\n",
       "      <td>21984.47061</td>\n",
       "    </tr>\n",
       "    <tr>\n",
       "      <th>4</th>\n",
       "      <td>32</td>\n",
       "      <td>male</td>\n",
       "      <td>28.880</td>\n",
       "      <td>0</td>\n",
       "      <td>no</td>\n",
       "      <td>northwest</td>\n",
       "      <td>3866.85520</td>\n",
       "    </tr>\n",
       "  </tbody>\n",
       "</table>\n",
       "</div>"
      ],
      "text/plain": [
       "   age     sex     bmi  children smoker     region      charges\n",
       "0   19  female  27.900         0    yes  southwest  16884.92400\n",
       "1   18    male  33.770         1     no  southeast   1725.55230\n",
       "2   28    male  33.000         3     no  southeast   4449.46200\n",
       "3   33    male  22.705         0     no  northwest  21984.47061\n",
       "4   32    male  28.880         0     no  northwest   3866.85520"
      ]
     },
     "execution_count": 286,
     "metadata": {},
     "output_type": "execute_result"
    }
   ],
   "source": [
    "# So we get the number number of rows(observations) as 1338 and the number of columns(variables) as 7\n",
    "# Check a sample of the data \n",
    "data.head()"
   ]
  },
  {
   "cell_type": "code",
   "execution_count": 287,
   "metadata": {},
   "outputs": [
    {
     "name": "stdout",
     "output_type": "stream",
     "text": [
      "<class 'pandas.core.frame.DataFrame'>\n",
      "RangeIndex: 1338 entries, 0 to 1337\n",
      "Data columns (total 7 columns):\n",
      " #   Column    Non-Null Count  Dtype  \n",
      "---  ------    --------------  -----  \n",
      " 0   age       1338 non-null   int64  \n",
      " 1   sex       1338 non-null   object \n",
      " 2   bmi       1338 non-null   float64\n",
      " 3   children  1338 non-null   int64  \n",
      " 4   smoker    1338 non-null   object \n",
      " 5   region    1338 non-null   object \n",
      " 6   charges   1338 non-null   float64\n",
      "dtypes: float64(2), int64(2), object(3)\n",
      "memory usage: 73.3+ KB\n"
     ]
    }
   ],
   "source": [
    "# Find if any values are missing or null or in an incorrect data type.\n",
    "# We use info() for this. \n",
    "data.info()"
   ]
  },
  {
   "cell_type": "code",
   "execution_count": 288,
   "metadata": {},
   "outputs": [
    {
     "data": {
      "text/plain": [
       "male      676\n",
       "female    662\n",
       "Name: sex, dtype: int64"
      ]
     },
     "execution_count": 288,
     "metadata": {},
     "output_type": "execute_result"
    }
   ],
   "source": [
    "# We find that there are 7 variables and 1338 observations and none of the columns in any observation are missing or null,\n",
    "# because each column has 1338 non-null values\n",
    "# It seems that sex,region and smokers are objects(i.e categorical) while the remaining comlumns are numerical. \n",
    "# The columns of type object should be categorical unless the numerical fields have some values(s) of a different data-type,\n",
    "# in which case they'll be termed as columns of type object too.\n",
    "# We can check the counts for each category of the columns of type object (here sex,region,smokers) \n",
    "# to ensure that there aren't any numerical values shown as object. (Though in our case none of the 3 columns ) \n",
    "# This is done using value_counts()\n",
    "data['sex'].value_counts()"
   ]
  },
  {
   "cell_type": "code",
   "execution_count": 289,
   "metadata": {},
   "outputs": [
    {
     "data": {
      "text/plain": [
       "southeast    364\n",
       "southwest    325\n",
       "northwest    325\n",
       "northeast    324\n",
       "Name: region, dtype: int64"
      ]
     },
     "execution_count": 289,
     "metadata": {},
     "output_type": "execute_result"
    }
   ],
   "source": [
    "data['region'].value_counts()"
   ]
  },
  {
   "cell_type": "code",
   "execution_count": 290,
   "metadata": {},
   "outputs": [
    {
     "data": {
      "text/plain": [
       "no     1064\n",
       "yes     274\n",
       "Name: smoker, dtype: int64"
      ]
     },
     "execution_count": 290,
     "metadata": {},
     "output_type": "execute_result"
    }
   ],
   "source": [
    "data['smoker'].value_counts()"
   ]
  },
  {
   "cell_type": "code",
   "execution_count": 291,
   "metadata": {},
   "outputs": [
    {
     "data": {
      "text/html": [
       "<div>\n",
       "<style scoped>\n",
       "    .dataframe tbody tr th:only-of-type {\n",
       "        vertical-align: middle;\n",
       "    }\n",
       "\n",
       "    .dataframe tbody tr th {\n",
       "        vertical-align: top;\n",
       "    }\n",
       "\n",
       "    .dataframe thead th {\n",
       "        text-align: right;\n",
       "    }\n",
       "</style>\n",
       "<table border=\"1\" class=\"dataframe\">\n",
       "  <thead>\n",
       "    <tr style=\"text-align: right;\">\n",
       "      <th></th>\n",
       "      <th>age</th>\n",
       "      <th>bmi</th>\n",
       "      <th>children</th>\n",
       "      <th>charges</th>\n",
       "    </tr>\n",
       "  </thead>\n",
       "  <tbody>\n",
       "    <tr>\n",
       "      <th>count</th>\n",
       "      <td>1338.000000</td>\n",
       "      <td>1338.000000</td>\n",
       "      <td>1338.000000</td>\n",
       "      <td>1338.000000</td>\n",
       "    </tr>\n",
       "    <tr>\n",
       "      <th>mean</th>\n",
       "      <td>39.207025</td>\n",
       "      <td>30.663397</td>\n",
       "      <td>1.094918</td>\n",
       "      <td>13270.422265</td>\n",
       "    </tr>\n",
       "    <tr>\n",
       "      <th>std</th>\n",
       "      <td>14.049960</td>\n",
       "      <td>6.098187</td>\n",
       "      <td>1.205493</td>\n",
       "      <td>12110.011237</td>\n",
       "    </tr>\n",
       "    <tr>\n",
       "      <th>min</th>\n",
       "      <td>18.000000</td>\n",
       "      <td>15.960000</td>\n",
       "      <td>0.000000</td>\n",
       "      <td>1121.873900</td>\n",
       "    </tr>\n",
       "    <tr>\n",
       "      <th>25%</th>\n",
       "      <td>27.000000</td>\n",
       "      <td>26.296250</td>\n",
       "      <td>0.000000</td>\n",
       "      <td>4740.287150</td>\n",
       "    </tr>\n",
       "    <tr>\n",
       "      <th>50%</th>\n",
       "      <td>39.000000</td>\n",
       "      <td>30.400000</td>\n",
       "      <td>1.000000</td>\n",
       "      <td>9382.033000</td>\n",
       "    </tr>\n",
       "    <tr>\n",
       "      <th>75%</th>\n",
       "      <td>51.000000</td>\n",
       "      <td>34.693750</td>\n",
       "      <td>2.000000</td>\n",
       "      <td>16639.912515</td>\n",
       "    </tr>\n",
       "    <tr>\n",
       "      <th>max</th>\n",
       "      <td>64.000000</td>\n",
       "      <td>53.130000</td>\n",
       "      <td>5.000000</td>\n",
       "      <td>63770.428010</td>\n",
       "    </tr>\n",
       "  </tbody>\n",
       "</table>\n",
       "</div>"
      ],
      "text/plain": [
       "               age          bmi     children       charges\n",
       "count  1338.000000  1338.000000  1338.000000   1338.000000\n",
       "mean     39.207025    30.663397     1.094918  13270.422265\n",
       "std      14.049960     6.098187     1.205493  12110.011237\n",
       "min      18.000000    15.960000     0.000000   1121.873900\n",
       "25%      27.000000    26.296250     0.000000   4740.287150\n",
       "50%      39.000000    30.400000     1.000000   9382.033000\n",
       "75%      51.000000    34.693750     2.000000  16639.912515\n",
       "max      64.000000    53.130000     5.000000  63770.428010"
      ]
     },
     "execution_count": 291,
     "metadata": {},
     "output_type": "execute_result"
    }
   ],
   "source": [
    "# We can see here, that all the object type columns \n",
    "# are indeed categorical (male/female, southeast/northwest/southwest/northeast and yes/no) \n",
    "# Now that we know that our dataset doesn't have missing values,null values or values with wrong data-types, \n",
    "# lets look at the statistical summary of the numerical data\n",
    "data.describe()"
   ]
  },
  {
   "cell_type": "code",
   "execution_count": 292,
   "metadata": {},
   "outputs": [],
   "source": [
    "# Here the count, mean, std, min and max show \n",
    "# the number of values, average value, the standard deviation, minimum value and maximum value of each column respectively\n",
    "# 25%, 50%,75% show the 25th percentile(1st quartile), 50th percentile(median/2nd quaritle) and the 75th percentile(3rd quartile) respectively\n",
    "# This means that 25% of the values in age column are < 27, 50% are < 39 etc."
   ]
  },
  {
   "cell_type": "markdown",
   "metadata": {},
   "source": [
    "### Visualize the given data set and select the Features"
   ]
  },
  {
   "cell_type": "code",
   "execution_count": 293,
   "metadata": {
    "scrolled": false
   },
   "outputs": [
    {
     "data": {
      "image/png": "[encoded data removed]",
      "text/plain": [
       "<Figure size 1440x1080 with 4 Axes>"
      ]
     },
     "metadata": {
      "needs_background": "light"
     },
     "output_type": "display_data"
    }
   ],
   "source": [
    "# Now lets plot histograms to get a visual understanding of the correlations of the variables\n",
    "data.hist(bins=50,figsize=(20,15))\n",
    "plt.show()"
   ]
  },
  {
   "cell_type": "code",
   "execution_count": 294,
   "metadata": {},
   "outputs": [],
   "source": [
    "# This histogram shows the frequency of each of the numerical parameters\n",
    "# We can see that most of the data in the charges graph is towards the left. \n",
    "# Another thing that we can see is that in the charges, children and age graph there is a peak at the begining. One thing we \n",
    "# understand from this is that the number of people with 0 children, number of people under the age of 20 \n",
    "# and the number of people whose charges are under 10000 are the highest."
   ]
  },
  {
   "cell_type": "code",
   "execution_count": 295,
   "metadata": {},
   "outputs": [],
   "source": [
    "# Now lets plot the scatter plot to see relation between the independent variables and the response variable\n",
    "age = data.iloc[:,0].values\n",
    "sex = data.iloc[:,1].values\n",
    "bmi = data.iloc[:,2].values\n",
    "children = data.iloc[:,3].values\n",
    "smoker = data.iloc[:,4].values\n",
    "region = data.iloc[:,5].values\n",
    "charges = data.iloc[:,6].values\n"
   ]
  },
  {
   "cell_type": "code",
   "execution_count": 296,
   "metadata": {
    "scrolled": true
   },
   "outputs": [
    {
     "data": {
      "image/png": "[encoded data removed]",
      "text/plain": [
       "<Figure size 432x288 with 1 Axes>"
      ]
     },
     "metadata": {
      "needs_background": "light"
     },
     "output_type": "display_data"
    },
    {
     "data": {
      "image/png": "[encoded data removed]",
      "text/plain": [
       "<Figure size 432x288 with 1 Axes>"
      ]
     },
     "metadata": {
      "needs_background": "light"
     },
     "output_type": "display_data"
    }
   ],
   "source": [
    "ax = sns.scatterplot(age, charges, color='blue')\n",
    "ax.set_title('Charge VS Age')\n",
    "plt.xlabel('Age')\n",
    "plt.ylabel('Charge')\n",
    "plt.show()\n",
    "\n",
    "ax = sns.boxplot(data['age'])\n",
    "ax.set_title(('Age Boxplot'))\n",
    "plt.show(ax)\n"
   ]
  },
  {
   "cell_type": "code",
   "execution_count": 297,
   "metadata": {},
   "outputs": [],
   "source": [
    "# From the scatter plot we can see that with age the charge is also increasing but the data is divided into three distinct groups.\n",
    "# Yet all of these groups follow similar curve on their own(disregarding the outliers). \n",
    "# This indicates that the attribute(variable) based on which the Age vs Charge plot is grouped is not influencing the charge\n",
    "# much. Lets plot age against the other variables to see which variable this is."
   ]
  },
  {
   "cell_type": "code",
   "execution_count": 298,
   "metadata": {
    "scrolled": true
   },
   "outputs": [
    {
     "data": {
      "image/png": "[encoded data removed]",
      "text/plain": [
       "<Figure size 432x288 with 1 Axes>"
      ]
     },
     "metadata": {
      "needs_background": "light"
     },
     "output_type": "display_data"
    },
    {
     "data": {
      "image/png": "[encoded data removed]",
      "text/plain": [
       "<Figure size 432x288 with 1 Axes>"
      ]
     },
     "metadata": {
      "needs_background": "light"
     },
     "output_type": "display_data"
    },
    {
     "data": {
      "image/png": "[encoded data removed]",
      "text/plain": [
       "<Figure size 432x288 with 1 Axes>"
      ]
     },
     "metadata": {
      "needs_background": "light"
     },
     "output_type": "display_data"
    },
    {
     "data": {
      "image/png": "[encoded data removed]",
      "text/plain": [
       "<Figure size 432x288 with 1 Axes>"
      ]
     },
     "metadata": {
      "needs_background": "light"
     },
     "output_type": "display_data"
    },
    {
     "data": {
      "image/png": "[encoded data removed]",
      "text/plain": [
       "<Figure size 432x288 with 1 Axes>"
      ]
     },
     "metadata": {
      "needs_background": "light"
     },
     "output_type": "display_data"
    }
   ],
   "source": [
    "ax = sns.scatterplot(age, bmi, color='aqua')\n",
    "ax.set_title('bmi VS Age')\n",
    "plt.xlabel('Age')\n",
    "plt.ylabel('bmi')\n",
    "plt.show()\n",
    "\n",
    "ax = sns.scatterplot(age, sex, color='magenta')\n",
    "ax.set_title('Sex VS Age')\n",
    "plt.xlabel('Age')\n",
    "plt.ylabel('sex')\n",
    "plt.show()\n",
    "\n",
    "ax = sns.scatterplot(age, children, color='brown')\n",
    "ax.set_title('Number of children VS Age')\n",
    "plt.xlabel('Age')\n",
    "plt.ylabel('Children')\n",
    "plt.show()\n",
    "\n",
    "ax = sns.scatterplot(age, smoker, color='black')\n",
    "ax.set_title('Smoker VS Age')\n",
    "plt.xlabel('Age')\n",
    "plt.ylabel('smoker')\n",
    "plt.show()\n",
    "\n",
    "\n",
    "ax = sns.scatterplot(age, region, color='teal')\n",
    "ax.set_title('region VS Age')\n",
    "plt.xlabel('Age')\n",
    "plt.ylabel('region')\n",
    "plt.show()\n"
   ]
  },
  {
   "cell_type": "code",
   "execution_count": 299,
   "metadata": {},
   "outputs": [],
   "source": [
    "# From the charts above we can see that the variable is number of children. So it is likely that the number of children\n",
    "# plays a smaller role in determining the charge.   "
   ]
  },
  {
   "cell_type": "code",
   "execution_count": 300,
   "metadata": {
    "scrolled": true
   },
   "outputs": [
    {
     "data": {
      "image/png": "[encoded data removed]",
      "text/plain": [
       "<Figure size 432x288 with 1 Axes>"
      ]
     },
     "metadata": {
      "needs_background": "light"
     },
     "output_type": "display_data"
    }
   ],
   "source": [
    "ax = sns.scatterplot(sex, charges, color='red')\n",
    "ax.set_title('Charge VS Sex')\n",
    "plt.xlabel('Sex')\n",
    "plt.ylabel('Charge')\n",
    "plt.show()\n"
   ]
  },
  {
   "cell_type": "code",
   "execution_count": 301,
   "metadata": {
    "scrolled": true
   },
   "outputs": [
    {
     "data": {
      "image/png": "[encoded data removed]",
      "text/plain": [
       "<Figure size 432x288 with 1 Axes>"
      ]
     },
     "metadata": {
      "needs_background": "light"
     },
     "output_type": "display_data"
    },
    {
     "data": {
      "image/png": "[encoded data removed]",
      "text/plain": [
       "<Figure size 432x288 with 1 Axes>"
      ]
     },
     "metadata": {
      "needs_background": "light"
     },
     "output_type": "display_data"
    }
   ],
   "source": [
    "\n",
    "ax = sns.scatterplot(bmi, charges, color='purple')\n",
    "ax.set_title('Charge VS Bmi')\n",
    "plt.xlabel('Bmi')\n",
    "plt.ylabel('Charge')\n",
    "plt.show()\n",
    "\n",
    "ax = sns.boxplot(data['bmi'])\n",
    "ax.set_title(('BMI Boxplot'))\n",
    "plt.show(ax)\n"
   ]
  },
  {
   "cell_type": "code",
   "execution_count": 302,
   "metadata": {
    "scrolled": true
   },
   "outputs": [
    {
     "data": {
      "image/png": "[encoded data removed]",
      "text/plain": [
       "<Figure size 432x288 with 1 Axes>"
      ]
     },
     "metadata": {
      "needs_background": "light"
     },
     "output_type": "display_data"
    }
   ],
   "source": [
    "ax = sns.scatterplot(children, charges, color='orange')\n",
    "ax.set_title('Charge VS Children')\n",
    "plt.xlabel('Children')\n",
    "plt.ylabel('Charge')\n",
    "plt.show()\n"
   ]
  },
  {
   "cell_type": "code",
   "execution_count": 303,
   "metadata": {
    "scrolled": true
   },
   "outputs": [
    {
     "data": {
      "image/png": "[encoded data removed]",
      "text/plain": [
       "<Figure size 432x288 with 1 Axes>"
      ]
     },
     "metadata": {
      "needs_background": "light"
     },
     "output_type": "display_data"
    }
   ],
   "source": [
    "ax = sns.scatterplot(smoker, charges, color='grey')\n",
    "ax.set_title('Charge VS Smoker')\n",
    "plt.xlabel('Smoker')\n",
    "plt.ylabel('Charge')\n",
    "plt.show()\n"
   ]
  },
  {
   "cell_type": "code",
   "execution_count": 304,
   "metadata": {},
   "outputs": [
    {
     "data": {
      "image/png": "[encoded data removed]",
      "text/plain": [
       "<Figure size 432x288 with 1 Axes>"
      ]
     },
     "metadata": {
      "needs_background": "light"
     },
     "output_type": "display_data"
    }
   ],
   "source": [
    "ax = sns.scatterplot(region, charges, color='yellow')\n",
    "ax.set_title('Charge VS Region')\n",
    "plt.xlabel('Region')\n",
    "plt.ylabel('Charge')\n",
    "plt.show() "
   ]
  },
  {
   "cell_type": "code",
   "execution_count": 305,
   "metadata": {},
   "outputs": [],
   "source": [
    "# Some conclusions we can arrive at just by looking at the plots are as follows:-\n",
    "# > The charges follow a similar distribution for both sexes(implying less dependence and a lower weight).\n",
    "# > The min charge for non smokers is lesser than the min charge for smokers and similarly \n",
    "# the max charge for smokers is more than non smokers.\n",
    "# > Charges are generally increasing with increase in age\n",
    "# > The mean charges for different regions is similar(implying less dependence and a lower weight)."
   ]
  },
  {
   "cell_type": "code",
   "execution_count": 306,
   "metadata": {},
   "outputs": [
    {
     "data": {
      "text/plain": [
       "charges     1.000000\n",
       "age         0.299008\n",
       "bmi         0.198341\n",
       "children    0.067998\n",
       "Name: charges, dtype: float64"
      ]
     },
     "execution_count": 306,
     "metadata": {},
     "output_type": "execute_result"
    }
   ],
   "source": [
    "# Lets check which of the variables show the highest corelation with the response variable charges\n",
    "# This can be done using corr()\n",
    "corr_matrix = data.corr()\n",
    "corr_matrix['charges'].sort_values(ascending=False)"
   ]
  },
  {
   "cell_type": "code",
   "execution_count": 307,
   "metadata": {},
   "outputs": [],
   "source": [
    "# Here we can see the variables in the descending order of their corelation with the response variable charges\n",
    "# Since the variable charges is 100% corelated with itself the value for charges is 1. Further we can see that the next\n",
    "# variable with the highest corelation is smoker, followed by age and so on. \n",
    "# It's also apparent that region and the sex have the least corelation with the charges\n",
    "# So we can choose the most influential variables as our features. These are smoker, age and BMI"
   ]
  },
  {
   "cell_type": "code",
   "execution_count": 308,
   "metadata": {},
   "outputs": [
    {
     "data": {
      "text/html": [
       "<div>\n",
       "<style scoped>\n",
       "    .dataframe tbody tr th:only-of-type {\n",
       "        vertical-align: middle;\n",
       "    }\n",
       "\n",
       "    .dataframe tbody tr th {\n",
       "        vertical-align: top;\n",
       "    }\n",
       "\n",
       "    .dataframe thead th {\n",
       "        text-align: right;\n",
       "    }\n",
       "</style>\n",
       "<table border=\"1\" class=\"dataframe\">\n",
       "  <thead>\n",
       "    <tr style=\"text-align: right;\">\n",
       "      <th></th>\n",
       "      <th>age</th>\n",
       "      <th>sex</th>\n",
       "      <th>bmi</th>\n",
       "      <th>children</th>\n",
       "      <th>smoker</th>\n",
       "      <th>region</th>\n",
       "      <th>charges</th>\n",
       "    </tr>\n",
       "  </thead>\n",
       "  <tbody>\n",
       "    <tr>\n",
       "      <th>0</th>\n",
       "      <td>19</td>\n",
       "      <td>female</td>\n",
       "      <td>27.900</td>\n",
       "      <td>0</td>\n",
       "      <td>1</td>\n",
       "      <td>southwest</td>\n",
       "      <td>16884.92400</td>\n",
       "    </tr>\n",
       "    <tr>\n",
       "      <th>1</th>\n",
       "      <td>18</td>\n",
       "      <td>male</td>\n",
       "      <td>33.770</td>\n",
       "      <td>1</td>\n",
       "      <td>0</td>\n",
       "      <td>southeast</td>\n",
       "      <td>1725.55230</td>\n",
       "    </tr>\n",
       "    <tr>\n",
       "      <th>2</th>\n",
       "      <td>28</td>\n",
       "      <td>male</td>\n",
       "      <td>33.000</td>\n",
       "      <td>3</td>\n",
       "      <td>0</td>\n",
       "      <td>southeast</td>\n",
       "      <td>4449.46200</td>\n",
       "    </tr>\n",
       "    <tr>\n",
       "      <th>3</th>\n",
       "      <td>33</td>\n",
       "      <td>male</td>\n",
       "      <td>22.705</td>\n",
       "      <td>0</td>\n",
       "      <td>0</td>\n",
       "      <td>northwest</td>\n",
       "      <td>21984.47061</td>\n",
       "    </tr>\n",
       "    <tr>\n",
       "      <th>4</th>\n",
       "      <td>32</td>\n",
       "      <td>male</td>\n",
       "      <td>28.880</td>\n",
       "      <td>0</td>\n",
       "      <td>0</td>\n",
       "      <td>northwest</td>\n",
       "      <td>3866.85520</td>\n",
       "    </tr>\n",
       "  </tbody>\n",
       "</table>\n",
       "</div>"
      ],
      "text/plain": [
       "   age     sex     bmi  children  smoker     region      charges\n",
       "0   19  female  27.900         0       1  southwest  16884.92400\n",
       "1   18    male  33.770         1       0  southeast   1725.55230\n",
       "2   28    male  33.000         3       0  southeast   4449.46200\n",
       "3   33    male  22.705         0       0  northwest  21984.47061\n",
       "4   32    male  28.880         0       0  northwest   3866.85520"
      ]
     },
     "execution_count": 308,
     "metadata": {},
     "output_type": "execute_result"
    }
   ],
   "source": [
    "# lets encode the categorical value smoker so it is easier to work with.\n",
    "# First we'll create a dictionary giving a token value to each of the categories 1 for smoker and 0 for non smoker.\n",
    "# Then we'll replace the object type values with the corresponding numerical value using the dictionary \n",
    "\n",
    "encode_dict = {\"smoker\": {\"no\": 0,\"yes\": 1}}\n",
    "\n",
    "data = data.replace(encode_dict)\n",
    "data.head()"
   ]
  },
  {
   "cell_type": "markdown",
   "metadata": {},
   "source": [
    "### Create and train the machine learning model using Normal SK-Learn library"
   ]
  },
  {
   "cell_type": "code",
   "execution_count": 309,
   "metadata": {},
   "outputs": [
    {
     "name": "stdout",
     "output_type": "stream",
     "text": [
      "(1338, 3)\n",
      "(1338,)\n",
      "[19.  27.9  1. ]\n",
      "16884.924\n"
     ]
    }
   ],
   "source": [
    "# Since our features are smoker, age and BMI, lets put them in X and we'll put charges in Y.\n",
    "\n",
    "X = data.iloc[:,[True,False,True,False,True,False,False]].values # copy all feature columns using a boolean array\n",
    "Y = data.iloc[:,-1].values # copy the response variable column \n",
    "\n",
    "# Now we split the data into training and testing data \n",
    "# View the size of the arrays X and Y\n",
    "print(X.shape)\n",
    "print(Y.shape)\n",
    "print(X[0])\n",
    "print(Y[0])"
   ]
  },
  {
   "cell_type": "code",
   "execution_count": 310,
   "metadata": {},
   "outputs": [],
   "source": [
    "# Split the dataset into the Training set and Test set in the ratio of 2:1 i.e 1070 for training and 268 for testing\n",
    "X_train, X_test, Y_train, Y_test = train_test_split(X, Y, test_size=1/3, random_state=0)"
   ]
  },
  {
   "cell_type": "code",
   "execution_count": 311,
   "metadata": {},
   "outputs": [
    {
     "data": {
      "text/html": [
       "<div>\n",
       "<style scoped>\n",
       "    .dataframe tbody tr th:only-of-type {\n",
       "        vertical-align: middle;\n",
       "    }\n",
       "\n",
       "    .dataframe tbody tr th {\n",
       "        vertical-align: top;\n",
       "    }\n",
       "\n",
       "    .dataframe thead th {\n",
       "        text-align: right;\n",
       "    }\n",
       "</style>\n",
       "<table border=\"1\" class=\"dataframe\">\n",
       "  <thead>\n",
       "    <tr style=\"text-align: right;\">\n",
       "      <th></th>\n",
       "      <th>age</th>\n",
       "      <th>sex</th>\n",
       "      <th>bmi</th>\n",
       "      <th>children</th>\n",
       "      <th>smoker</th>\n",
       "      <th>region</th>\n",
       "      <th>charges</th>\n",
       "    </tr>\n",
       "  </thead>\n",
       "  <tbody>\n",
       "    <tr>\n",
       "      <th>482</th>\n",
       "      <td>18</td>\n",
       "      <td>1</td>\n",
       "      <td>31.35</td>\n",
       "      <td>0</td>\n",
       "      <td>0</td>\n",
       "      <td>0</td>\n",
       "      <td>1622.1885</td>\n",
       "    </tr>\n",
       "    <tr>\n",
       "      <th>338</th>\n",
       "      <td>50</td>\n",
       "      <td>0</td>\n",
       "      <td>32.30</td>\n",
       "      <td>1</td>\n",
       "      <td>1</td>\n",
       "      <td>3</td>\n",
       "      <td>41919.0970</td>\n",
       "    </tr>\n",
       "    <tr>\n",
       "      <th>356</th>\n",
       "      <td>46</td>\n",
       "      <td>0</td>\n",
       "      <td>43.89</td>\n",
       "      <td>3</td>\n",
       "      <td>0</td>\n",
       "      <td>0</td>\n",
       "      <td>8944.1151</td>\n",
       "    </tr>\n",
       "    <tr>\n",
       "      <th>869</th>\n",
       "      <td>25</td>\n",
       "      <td>1</td>\n",
       "      <td>24.30</td>\n",
       "      <td>3</td>\n",
       "      <td>0</td>\n",
       "      <td>2</td>\n",
       "      <td>4391.6520</td>\n",
       "    </tr>\n",
       "    <tr>\n",
       "      <th>182</th>\n",
       "      <td>22</td>\n",
       "      <td>0</td>\n",
       "      <td>19.95</td>\n",
       "      <td>3</td>\n",
       "      <td>0</td>\n",
       "      <td>3</td>\n",
       "      <td>4005.4225</td>\n",
       "    </tr>\n",
       "  </tbody>\n",
       "</table>\n",
       "</div>"
      ],
      "text/plain": [
       "     age  sex    bmi  children  smoker  region     charges\n",
       "482   18    1  31.35         0       0       0   1622.1885\n",
       "338   50    0  32.30         1       1       3  41919.0970\n",
       "356   46    0  43.89         3       0       0   8944.1151\n",
       "869   25    1  24.30         3       0       2   4391.6520\n",
       "182   22    0  19.95         3       0       3   4005.4225"
      ]
     },
     "execution_count": 311,
     "metadata": {},
     "output_type": "execute_result"
    }
   ],
   "source": [
    "train.head()"
   ]
  },
  {
   "cell_type": "code",
   "execution_count": 312,
   "metadata": {},
   "outputs": [
    {
     "data": {
      "text/plain": [
       "LinearRegression(copy_X=True, fit_intercept=True, n_jobs=None, normalize=False)"
      ]
     },
     "execution_count": 312,
     "metadata": {},
     "output_type": "execute_result"
    }
   ],
   "source": [
    "# Fit Simple Linear Regression to the Training dataset\n",
    "model = LinearRegression()\n",
    "\n",
    "# Train the model, using training data set\n",
    "model.fit(X_train, Y_train)"
   ]
  },
  {
   "cell_type": "markdown",
   "metadata": {},
   "source": [
    "###  Model Coefficients"
   ]
  },
  {
   "cell_type": "code",
   "execution_count": 313,
   "metadata": {
    "scrolled": true
   },
   "outputs": [
    {
     "name": "stdout",
     "output_type": "stream",
     "text": [
      "Intercept θ0 =  -11611.24339642364\n",
      "Coefficient θ1 =  263.1061895378838\n",
      "Coefficient θ2 =  316.39293702528414\n",
      "Coefficient θ3 =  23273.50024446497\n"
     ]
    }
   ],
   "source": [
    "# print theta0\n",
    "print('Intercept θ0 = ', model.intercept_)\n",
    "#print theta1\n",
    "print('Coefficient θ1 = ', model.coef_[0])\n",
    "# print theta2\n",
    "print('Coefficient θ2 = ', model.coef_[1])\n",
    "# print theta3\n",
    "print('Coefficient θ3 = ', model.coef_[2])\n"
   ]
  },
  {
   "cell_type": "code",
   "execution_count": 314,
   "metadata": {
    "scrolled": true
   },
   "outputs": [
    {
     "name": "stdout",
     "output_type": "stream",
     "text": [
      "Bias, θ0 =  -11611.24339642364\n",
      "Weight of Age, θ1 =  263.1061895378838\n",
      "Weight of BMI, θ2 =  316.39293702528414\n",
      "Weight of Smoker, θ3 =  23273.50024446497\n"
     ]
    }
   ],
   "source": [
    "print('Bias, θ0 = ', model.intercept_)\n",
    "print('Weight of Age, θ1 = ', model.coef_[0])\n",
    "print('Weight of BMI, θ2 = ', model.coef_[1])\n",
    "print('Weight of Smoker, θ3 = ', model.coef_[2])"
   ]
  },
  {
   "cell_type": "markdown",
   "metadata": {},
   "source": [
    "### Model Evaluation"
   ]
  },
  {
   "cell_type": "code",
   "execution_count": 315,
   "metadata": {
    "scrolled": true
   },
   "outputs": [
    {
     "name": "stdout",
     "output_type": "stream",
     "text": [
      "Mean Squared Error = 34330795.41\n",
      "Root Mean Squared Error = 5859.25\n",
      "Variance score = 0.79\n"
     ]
    }
   ],
   "source": [
    "# The mean squared error\n",
    "#Mean squared error regression loss\n",
    "\n",
    "# Use trained model to predict on test dataset\n",
    "Y_predict = model.predict(X_test)\n",
    "\n",
    "print(\"Mean Squared Error = %0.2f\" % mean_squared_error(Y_test, Y_predict))\n",
    "\n",
    "print(\"Root Mean Squared Error = %0.2f\" % math.sqrt(mean_squared_error(Y_test, Y_predict)))\n",
    "\n",
    "# variance score: 1 is perfect prediction while a constant model that always predicts the expected value of y, disregarding the input features, \n",
    "# would get a R^2 score of 0.0.\n",
    "print('Variance score = %.2f' % r2_score(Y_test, Y_predict))"
   ]
  },
  {
   "cell_type": "markdown",
   "metadata": {},
   "source": [
    "### Create and train the machine learning model using Batch Gradient Descent"
   ]
  },
  {
   "cell_type": "code",
   "execution_count": 316,
   "metadata": {},
   "outputs": [
    {
     "name": "stdout",
     "output_type": "stream",
     "text": [
      "Bias, θ0 =  -1.8285597931446875\n",
      "Weight of Age, θ1 =  0.09320791935373798\n",
      "Weight of BMI, θ2 =  0.22050513209863298\n",
      "Weight of Smoker, θ3 =  0.3905320628448907\n",
      "cost =  0.010594696658614055\n"
     ]
    }
   ],
   "source": [
    "# Scale X and Y (X has the features Smoker,Age and BMI and Y is the response variable)\n",
    "sx = preprocessing.MinMaxScaler()\n",
    "sy = preprocessing.MinMaxScaler()\n",
    "\n",
    "scaled_X = X\n",
    "scaled_X = sx.fit_transform(scaled_X)\n",
    "scaled_y = Y.reshape(-1,1)\n",
    "scaled_y = sy.fit_transform(scaled_y)\n",
    "\n",
    "# Define the function for Batch Gradient Descent with arguments X, y_true, epochs and learning parameter eta(fixed at 0.01 here)\n",
    "def batch_gradient_descent(X, y_true, epochs, eta = 0.01):\n",
    "\n",
    "#     Get the number of features from the size of X     \n",
    "    number_of_features = X.shape[1]\n",
    "    \n",
    "#     Initialize the weights with 1 (can take anything)\n",
    "    w = np.ones(shape=(number_of_features))\n",
    "    \n",
    "#     Initialize the Bias\n",
    "    b = 0\n",
    "    \n",
    "#     Get the count of total samples(observations)\n",
    "    total_samples = X.shape[0]\n",
    "    \n",
    "#     declare arays\n",
    "    cost_list = []\n",
    "    epoch_list = []\n",
    "    \n",
    "#     Loop through each epoch\n",
    "    for i in range(epochs):\n",
    "#         Get y_predicted by multiplying the weights with X and adding the bias\n",
    "        y_predicted = np.dot(w, scaled_X.T)\n",
    "#         Find partial derivatives wrt each w\n",
    "        w_grad = -(2/total_samples)*(X.T.dot(y_true-y_predicted))\n",
    "        b_grad = -(2/total_samples)*np.sum(y_true-y_predicted)\n",
    "        \n",
    "#         adjust the weights and bias\n",
    "        w = w - eta * w_grad\n",
    "        b = b - eta * b_grad\n",
    "        \n",
    "#         calculate the cost = mean of square of the difference between y_true and y_predicted\n",
    "        cost = np.mean(np.square(y_true - y_predicted))\n",
    "        \n",
    "#         store the cost and epoch value at few of the iterations (every 10th)\n",
    "        if i%10==0:\n",
    "            cost_list.append(cost)\n",
    "            epoch_list.append(i)\n",
    "#     return the function with weights, bias, cost, cost_list, and epoch list \n",
    "    return w, b, cost, cost_list, epoch_list\n",
    "\n",
    "# call the function\n",
    "w, b, cost, cost_list, epoch_list = batch_gradient_descent(scaled_X,scaled_y.reshape(scaled_y.shape[0],),500)\n",
    "\n",
    "\n",
    "# print weights, bias and the cost\n",
    "print('Bias, θ0 = ', b)\n",
    "print('Weight of Age, θ1 = ', w[0])\n",
    "print('Weight of BMI, θ2 = ', w[1])\n",
    "print('Weight of Smoker, θ3 = ', w[2])\n",
    "print('cost = ', cost)\n",
    "\n",
    "        "
   ]
  },
  {
   "cell_type": "markdown",
   "metadata": {},
   "source": [
    "### Visualize the cost value over epochs"
   ]
  },
  {
   "cell_type": "code",
   "execution_count": 317,
   "metadata": {},
   "outputs": [
    {
     "data": {
      "text/plain": [
       "[<matplotlib.lines.Line2D at 0xd82b1c2848>]"
      ]
     },
     "execution_count": 317,
     "metadata": {},
     "output_type": "execute_result"
    },
    {
     "data": {
      "image/png": "[encoded data removed]",
      "text/plain": [
       "<Figure size 432x288 with 1 Axes>"
      ]
     },
     "metadata": {
      "needs_background": "light"
     },
     "output_type": "display_data"
    }
   ],
   "source": [
    "\n",
    "plt.xlabel(\"epoch\")\n",
    "plt.ylabel(\"cost\")\n",
    "plt.plot(epoch_list,cost_list)"
   ]
  },
  {
   "cell_type": "markdown",
   "metadata": {},
   "source": [
    "### Create the Prediction Function"
   ]
  },
  {
   "cell_type": "code",
   "execution_count": 345,
   "metadata": {
    "scrolled": true
   },
   "outputs": [
    {
     "data": {
      "text/plain": [
       "array([[30750.63988434]])"
      ]
     },
     "execution_count": 345,
     "metadata": {},
     "output_type": "execute_result"
    }
   ],
   "source": [
    "def predict(age,bmi,smoker,w,b):\n",
    "#     scale using the previously defined scale\n",
    "    scaled_X = sx.transform([[age,bmi,smoker]])[0]\n",
    "    \n",
    "#     get the scaled price by subtituting the scaled_X values\n",
    "    scaled_charge = w[0]*scaled_X[0] + w[1]*scaled_X[1] + w[2]*scaled_X[2] + b \n",
    "    \n",
    "#     inverse trnform to return the actual charge back from the scaled value \n",
    "    return sy.inverse_transform([[scaled_charge]])\n",
    "predict(30,32.4,1,w,b)\n",
    "    "
   ]
  },
  {
   "cell_type": "markdown",
   "metadata": {},
   "source": [
    "### Create and train the machine learning model using Stochastic Gradient Descent"
   ]
  },
  {
   "cell_type": "code",
   "execution_count": 326,
   "metadata": {},
   "outputs": [
    {
     "data": {
      "text/plain": [
       "SGDRegressor(alpha=0.0001, average=False, early_stopping=False, epsilon=0.1,\n",
       "             eta0=0.01, fit_intercept=True, l1_ratio=0.15,\n",
       "             learning_rate='invscaling', loss='squared_loss', max_iter=1000,\n",
       "             n_iter_no_change=5, penalty='l2', power_t=0.25, random_state=None,\n",
       "             shuffle=True, tol=0.001, validation_fraction=0.1, verbose=0,\n",
       "             warm_start=False)"
      ]
     },
     "execution_count": 326,
     "metadata": {},
     "output_type": "execute_result"
    }
   ],
   "source": [
    "# Fit Stochastic Gradient Descent to the Training dataset\n",
    "model_SGD = SGDRegressor()\n",
    "\n",
    "# Train the model, using training data set\n",
    "model_SGD.fit(X_train, Y_train)"
   ]
  },
  {
   "cell_type": "markdown",
   "metadata": {},
   "source": [
    "### Model Coefficients"
   ]
  },
  {
   "cell_type": "code",
   "execution_count": 327,
   "metadata": {},
   "outputs": [
    {
     "name": "stdout",
     "output_type": "stream",
     "text": [
      "Intercept θ0 =  [-7.12125925e+09]\n",
      "Coefficient θ1 =  18441020.060451247\n",
      "Coefficient θ2 =  220005816.8167388\n",
      "Coefficient θ3 =  4804609049.491953\n"
     ]
    }
   ],
   "source": [
    "# print theta0\n",
    "print('Intercept θ0 = ', model_SGD.intercept_)\n",
    "#print theta1\n",
    "print('Coefficient θ1 = ', model_SGD.coef_[0])\n",
    "# print theta2\n",
    "print('Coefficient θ2 = ', model_SGD.coef_[1])\n",
    "# print theta3\n",
    "print('Coefficient θ3 = ', model_SGD.coef_[2])\n"
   ]
  },
  {
   "cell_type": "code",
   "execution_count": 329,
   "metadata": {},
   "outputs": [
    {
     "name": "stdout",
     "output_type": "stream",
     "text": [
      "Bias, θ0 =  [-7.12125925e+09]\n",
      "Weight of Age, θ1 =  18441020.060451247\n",
      "Weight of BMI, θ2 =  220005816.8167388\n",
      "Weight of Smoker, θ3 =  4804609049.491953\n"
     ]
    }
   ],
   "source": [
    "print('Bias, θ0 = ', model_SGD.intercept_)\n",
    "print('Weight of Age, θ1 = ', model_SGD.coef_[0])\n",
    "print('Weight of BMI, θ2 = ', model_SGD.coef_[1])\n",
    "print('Weight of Smoker, θ3 = ', model_SGD.coef_[2])"
   ]
  },
  {
   "cell_type": "markdown",
   "metadata": {},
   "source": [
    "### Model Evaluation"
   ]
  },
  {
   "cell_type": "code",
   "execution_count": 330,
   "metadata": {},
   "outputs": [
    {
     "name": "stdout",
     "output_type": "stream",
     "text": [
      "Mean Squared Error = 8012677508935783424.00\n",
      "Root Mean Squared Error = 2830667325.73\n",
      "Variance score = -49974537565.58\n"
     ]
    }
   ],
   "source": [
    "# The mean squared error\n",
    "#Mean squared error regression loss\n",
    "\n",
    "# Use trained model to predict on test dataset\n",
    "Y_predict = model_SGD.predict(X_test)\n",
    "\n",
    "print(\"Mean Squared Error = %0.2f\" % mean_squared_error(Y_test, Y_predict))\n",
    "\n",
    "print(\"Root Mean Squared Error = %0.2f\" % math.sqrt(mean_squared_error(Y_test, Y_predict)))\n",
    "\n",
    "# variance score: 1 is perfect prediction while a constant model that always predicts the expected value of y, disregarding the input features, \n",
    "# would get a R^2 score of 0.0.\n",
    "print('Variance score = %.2f' % r2_score(Y_test, Y_predict))"
   ]
  },
  {
   "cell_type": "markdown",
   "metadata": {},
   "source": [
    "### Create and train the machine learning model using Mini Batch Gradient Descent"
   ]
  },
  {
   "cell_type": "code",
   "execution_count": 342,
   "metadata": {},
   "outputs": [
    {
     "name": "stdout",
     "output_type": "stream",
     "text": [
      "Bias, θ0 =  -0.04351989554634273\n",
      "Weight of Age, θ1 =  0.19174694275123116\n",
      "Weight of BMI, θ2 =  0.19368438319651152\n",
      "Weight of Smoker, θ3 =  0.3807700176136405\n",
      "cost =  0.07899008608129875\n"
     ]
    }
   ],
   "source": [
    "# Scale X and Y (X has the features Smoker,Age and BMI and Y is the response variable)\n",
    "sx = preprocessing.MinMaxScaler()\n",
    "sy = preprocessing.MinMaxScaler()\n",
    "\n",
    "scaled_X = X\n",
    "scaled_X = sx.fit_transform(scaled_X)\n",
    "scaled_y = Y.reshape(-1,1)\n",
    "scaled_y = sy.fit_transform(scaled_y)\n",
    "\n",
    "# scaling makes it 2d. Reshape into 1d\n",
    "scaled_y.reshape(1338,)\n",
    "\n",
    "# Define the function for Batch Gradient Descent with arguments X, y_true, epochs and learning parameter eta(fixed at 0.01 here)\n",
    "def mini_batch_gradient_descent(X, y_true, epochs = 100, batch_size = 5, eta = 0.01):\n",
    "\n",
    "#     Get the number of features from the size of X     \n",
    "    number_of_features = X.shape[1]\n",
    "    \n",
    "#     Initialize the weights with 1 (can take anything)\n",
    "    w = np.ones(shape=(number_of_features))\n",
    "    \n",
    "#     Initialize the Bias\n",
    "    b = 0\n",
    "    \n",
    "#     Get the count of total samples(observations)\n",
    "    total_samples = X.shape[0]\n",
    "    \n",
    "#     declare arays\n",
    "    cost_list = []\n",
    "    epoch_list = []\n",
    "    \n",
    "#     get the count of batches by dividing total samples by batch_size \n",
    "    num_batches = int(total_samples/batch_size)\n",
    "    \n",
    "#     Loop through each epoch\n",
    "    for i in range(epochs):\n",
    "        \n",
    "#         get random permutations of totl samples and pick values of X and Y_true from it \n",
    "        random_indices = np.random.permutation(total_samples)\n",
    "        X_tmp = X[random_indices]\n",
    "        y_tmp = y_true[random_indices]\n",
    "        \n",
    "        \n",
    "        for j in range(0,total_samples,batch_size):\n",
    "            Xj = X_tmp[j:j+batch_size]\n",
    "            yj = y_tmp[j:j+batch_size]\n",
    "            \n",
    "#         Get y_predicted by multiplying the weights with X and adding the bias\n",
    "            y_predicted = np.dot(w, Xj.T) + b\n",
    "            \n",
    "#         Find partial derivatives wrt each w\n",
    "            w_grad = -(2/len(Xj))*(Xj.T.dot(yj-y_predicted))\n",
    "            b_grad = -(2/len(Xj))*np.sum(yj-y_predicted)\n",
    "            \n",
    "#         adjust the weights and bias\n",
    "            w = w - eta * w_grad\n",
    "            b = b - eta * b_grad\n",
    "                \n",
    "#         calculate the cost = mean of square of the difference between y_true and y_predicted\n",
    "            cost = np.mean(np.square(yj-y_predicted)) # MSE (Mean Squared Error)\n",
    "        \n",
    "#         store the cost and epoch value at few of the iterations (every 10th)v\n",
    "        if i%10==0:\n",
    "            cost_list.append(cost)\n",
    "            epoch_list.append(i)\n",
    "        \n",
    "#     return the function with weights, bias, cost, cost_list, and epoch list\n",
    "    return w, b, cost, cost_list, epoch_list\n",
    "        \n",
    "# call the function\n",
    "w, b, cost, cost_list, epoch_list = mini_batch_gradient_descent(scaled_X, scaled_y.reshape(scaled_y.shape[0],), epochs = 120, batch_size = 5)\n",
    "w, b, cost\n",
    "\n",
    "# print weights, bias and the cost\n",
    "print('Bias, θ0 = ', b)\n",
    "print('Weight of Age, θ1 = ', w[0])\n",
    "print('Weight of BMI, θ2 = ', w[1])\n",
    "print('Weight of Smoker, θ3 = ', w[2])\n",
    "print('cost = ', cost)\n",
    "\n",
    "        "
   ]
  },
  {
   "cell_type": "markdown",
   "metadata": {},
   "source": [
    "### Visualize the cost value over epochs"
   ]
  },
  {
   "cell_type": "code",
   "execution_count": 343,
   "metadata": {},
   "outputs": [
    {
     "data": {
      "text/plain": [
       "[<matplotlib.lines.Line2D at 0xd82b3c5488>]"
      ]
     },
     "execution_count": 343,
     "metadata": {},
     "output_type": "execute_result"
    },
    {
     "data": {
      "image/png": "[encoded data removed]",
      "text/plain": [
       "<Figure size 432x288 with 1 Axes>"
      ]
     },
     "metadata": {
      "needs_background": "light"
     },
     "output_type": "display_data"
    }
   ],
   "source": [
    "\n",
    "plt.xlabel(\"epoch\")\n",
    "plt.ylabel(\"cost\")\n",
    "plt.plot(epoch_list,cost_list)"
   ]
  },
  {
   "cell_type": "markdown",
   "metadata": {},
   "source": [
    "### Create the Prediction Function"
   ]
  },
  {
   "cell_type": "code",
   "execution_count": 344,
   "metadata": {
    "scrolled": true
   },
   "outputs": [
    {
     "data": {
      "text/plain": [
       "array([[5720.82865003]])"
      ]
     },
     "execution_count": 344,
     "metadata": {},
     "output_type": "execute_result"
    }
   ],
   "source": [
    "def predict(age,bmi,smoker,w,b):\n",
    "#     scale using the previously defined scale\n",
    "    scaled_X = sx.transform([[age,bmi,smoker]])[0]\n",
    "    \n",
    "#     get the scaled price by subtituting the scaled_X values\n",
    "    scaled_charge = w[0]*scaled_X[0] + w[1]*scaled_X[1] + w[2]*scaled_X[2] + b \n",
    "    \n",
    "#     inverse trnform to return the actual charge back from the scaled value \n",
    "    return sy.inverse_transform([[scaled_charge]])\n",
    "predict(23,34.4,0,w,b)\n",
    "    "
   ]
  },
  {
   "cell_type": "code",
   "execution_count": null,
   "metadata": {},
   "outputs": [],
   "source": []
  }
 ],
 "metadata": {
  "kernelspec": {
   "display_name": "Python 3",
   "language": "python",
   "name": "python3"
  },
  "language_info": {
   "codemirror_mode": {
    "name": "ipython",
    "version": 3
   },
   "file_extension": ".py",
   "mimetype": "text/x-python",
   "name": "python",
   "nbconvert_exporter": "python",
   "pygments_lexer": "ipython3",
   "version": "3.7.6"
  }
 },
 "nbformat": 4,
 "nbformat_minor": 4
}
